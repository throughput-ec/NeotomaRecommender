{
 "cells": [
  {
   "cell_type": "code",
   "execution_count": 1,
   "metadata": {},
   "outputs": [],
   "source": [
    "import pandas as pd\n",
    "import numpy as np\n",
    "import config as cfg\n",
    "import json\n",
    "\n",
    "# Load py2neo\n",
    "import py2neo\n",
    "from py2neo import Graph\n",
    "from py2neo.matching import *\n",
    "\n",
    "# Interactive Plotting Libraries\n",
    "import ipywidgets as widgets\n",
    "from ipywidgets import interact, interact_manual\n",
    "import plotly.graph_objects as go\n",
    "\n",
    "# Plotting Widgets\n",
    "import cufflinks as cf"
   ]
  },
  {
   "cell_type": "markdown",
   "metadata": {},
   "source": [
    "# Throughput Github Analysis\n",
    "\n",
    "This is a research project led by PhD Simon Goring.\n",
    "\n",
    "Different research questions are tried to be answer such as: \n",
    "\n",
    "- How do individuals and organizations use GitHub (or other public code repositories) to reference, analyze or reuse data from Data Catalogs?\n",
    "\n",
    "- Are there clear patterns of use across public repositories?\n",
    "\n",
    "- Do patterns of use differ by data/disciplinary domain, or do properties of the data resource (presence of an API, online documentation, size of user community) affect patterns of use? \n",
    "\n",
    "- Does the data reuse observed here expand our understanding of current modes of data reuse, e.g. those outlined in https://datascience.codata.org/articles/10.5334/dsj-2017-008/ ?\n",
    "\n",
    "- What are the characteristics and shape of the Earth Science research object network?\n",
    "- What are major nodes of connectivity?\n",
    "- What poorly connected islands exist? \n",
    "- What is the nature of data reuse in this network?\n",
    "- What downstream/second order grant products can be identified from this network?"
   ]
  },
  {
   "cell_type": "markdown",
   "metadata": {},
   "source": [
    "## Current Approach\n",
    "\n",
    "Categorizing a subset of scraped repos, with pre-defined types, which may be updated iteratively as categorization progresses (education, analysis, archiving, informational).\n",
    "\n",
    "\n",
    "Using ML techniques, we might be able to classify repos according to type automatically; and could consider classifying according to repository quality/completeness. Repository quality or completeness would be defined by:\n",
    "\n",
    "- presence/absence/length of readme\n",
    "- number of commits\n",
    "- number of contributors\n",
    "\n",
    "By using neo4j, we can construct and analyze the network graph in order to get:\n",
    "- Centrality and level of connection\n",
    "- Identification of small networks/islands within the network\n",
    "- What databases are highly connected and which are not?\n",
    "- Use database properties (has API, online search portal, has R/Python package, has user forum . . .)"
   ]
  },
  {
   "cell_type": "markdown",
   "metadata": {},
   "source": [
    "## Objective of the Notebook"
   ]
  },
  {
   "cell_type": "markdown",
   "metadata": {},
   "source": [
    "This Notebook is going to be used to created an initial Data Exploratory using Neo4j in order to later on, create a Recommendation System using of graph databases. \n",
    "\n",
    "In its initial stages, it might look rough, but this will be improved as it is updated and upgraded."
   ]
  },
  {
   "cell_type": "markdown",
   "metadata": {},
   "source": [
    "First, let's connect to Neo4j's graph.\n",
    "\n",
    "There is a `config.py` script, imported as `cfg` that includes personal credentials to log into the database. A `config_sample.py` script has been included. There, change the words `username` and `password` accordingly to match your own credentials.\n",
    "\n",
    "The port that neo4j automatically usees is 7687 when working in a local database."
   ]
  },
  {
   "cell_type": "code",
   "execution_count": 2,
   "metadata": {},
   "outputs": [],
   "source": [
    "# Connect to Graph\n",
    "graph = Graph(\"bolt://localhost:7687\", auth=(cfg.neo4j['auth']), bolt=True, password=cfg.neo4j['password'])"
   ]
  },
  {
   "cell_type": "code",
   "execution_count": 3,
   "metadata": {},
   "outputs": [
    {
     "data": {
      "text/plain": [
       "Graph('bolt://neo4j@localhost:7687', name='neo4j')"
      ]
     },
     "execution_count": 3,
     "metadata": {},
     "output_type": "execute_result"
    }
   ],
   "source": [
    "graph"
   ]
  },
  {
   "cell_type": "markdown",
   "metadata": {},
   "source": [
    "In order to select nodes that are a certain kind, we use the command `match`. "
   ]
  },
  {
   "cell_type": "markdown",
   "metadata": {},
   "source": [
    "In order to run queries, you can do `graph.run()` and do the Querie inside quotes. Get data using the verb `.data()`"
   ]
  },
  {
   "cell_type": "code",
   "execution_count": 4,
   "metadata": {},
   "outputs": [
    {
     "data": {
      "text/plain": [
       "{'n': Node('AGENT', homepage='https://github.com/throughput-ec/throughputdb/keywordMgmt', name='Keyword synonymy')}"
      ]
     },
     "execution_count": 4,
     "metadata": {},
     "output_type": "execute_result"
    }
   ],
   "source": [
    "trial = graph.run(\"MATCH (n:AGENT) RETURN n LIMIT 10\").data()\n",
    "trial[1]"
   ]
  },
  {
   "cell_type": "markdown",
   "metadata": {},
   "source": [
    "As seen above, the nature of nested dictionaries in lists, will definitely represent a challenge when trying to organized data and functions will be needed to make sure each observation's data is appropriately organized in the corresponding features. To convert a list that should be a dictionary use: `json.loads(list_that_should_be_dictionary)`"
   ]
  },
  {
   "cell_type": "markdown",
   "metadata": {},
   "source": [
    "### Counting observations"
   ]
  },
  {
   "cell_type": "code",
   "execution_count": 5,
   "metadata": {},
   "outputs": [
    {
     "data": {
      "text/html": [
       "<div>\n",
       "<style scoped>\n",
       "    .dataframe tbody tr th:only-of-type {\n",
       "        vertical-align: middle;\n",
       "    }\n",
       "\n",
       "    .dataframe tbody tr th {\n",
       "        vertical-align: top;\n",
       "    }\n",
       "\n",
       "    .dataframe thead th {\n",
       "        text-align: right;\n",
       "    }\n",
       "</style>\n",
       "<table border=\"1\" class=\"dataframe\">\n",
       "  <thead>\n",
       "    <tr style=\"text-align: right;\">\n",
       "      <th></th>\n",
       "      <th>COUNT(DISTINCT ocr)</th>\n",
       "    </tr>\n",
       "  </thead>\n",
       "  <tbody>\n",
       "    <tr>\n",
       "      <th>0</th>\n",
       "      <td>73563</td>\n",
       "    </tr>\n",
       "  </tbody>\n",
       "</table>\n",
       "</div>"
      ],
      "text/plain": [
       "   COUNT(DISTINCT ocr)\n",
       "0                73563"
      ]
     },
     "execution_count": 5,
     "metadata": {},
     "output_type": "execute_result"
    }
   ],
   "source": [
    "graph.run('MATCH (crt:TYPE {type:\"schema:CodeRepository\"})\\\n",
    "           MATCH (crt)<-[:isType]-(ocr:OBJECT) \\\n",
    "           RETURN COUNT(DISTINCT ocr)').to_data_frame()"
   ]
  },
  {
   "cell_type": "markdown",
   "metadata": {},
   "source": [
    "# EDA to get the right queries\n",
    "\n",
    "In order to figure out how to create a ML model, we need to extract the correct data from the Throughput database.\n",
    "\n",
    "We will analyze and graph the following:\n",
    "- Distribution of references to DBs"
   ]
  },
  {
   "cell_type": "markdown",
   "metadata": {},
   "source": [
    "- Note 'Earth Science' databases within graph\n",
    "    - X = DBs; y = # of referenced repos\n",
    "    - Linked repos (x) by commits (y)"
   ]
  },
  {
   "cell_type": "markdown",
   "metadata": {},
   "source": [
    "- Note ES commits \n",
    "    - Linked repos (x) by # of contributors (y)\n",
    "    - Linked repos (x) by # of forks (y)"
   ]
  },
  {
   "cell_type": "markdown",
   "metadata": {},
   "source": [
    "## Getting DataCatalogs and Counts(CodeRepos)"
   ]
  },
  {
   "cell_type": "code",
   "execution_count": 6,
   "metadata": {},
   "outputs": [],
   "source": [
    "counts = graph.run('''MATCH (k:KEYWORD {keyword: \"earth science\"})\\\n",
    "MATCH (k)<-[:hasKeyword]-(:ANNOTATION)-[:Body]->(dc:dataCat)\\\n",
    "MATCH (dc)<-[:Target]-(:ANNOTATION)-[:Target]->(cr:codeRepo)\\\n",
    "RETURN DISTINCT properties(dc), count(DISTINCT cr)''').data()"
   ]
  },
  {
   "cell_type": "markdown",
   "metadata": {},
   "source": [
    "![](img/01_graph.png)"
   ]
  },
  {
   "cell_type": "markdown",
   "metadata": {},
   "source": [
    "### Example on extracting data"
   ]
  },
  {
   "cell_type": "code",
   "execution_count": 7,
   "metadata": {},
   "outputs": [
    {
     "data": {
      "text/plain": [
       "'r3d100010867'"
      ]
     },
     "execution_count": 7,
     "metadata": {},
     "output_type": "execute_result"
    }
   ],
   "source": [
    "# Extracting ID of Data Catalog\n",
    "counts[1]['properties(dc)']['id']"
   ]
  },
  {
   "cell_type": "code",
   "execution_count": 8,
   "metadata": {},
   "outputs": [
    {
     "data": {
      "text/plain": [
       "8"
      ]
     },
     "execution_count": 8,
     "metadata": {},
     "output_type": "execute_result"
    }
   ],
   "source": [
    "# Extracting number of CodeRepos linked to Data Catalog\n",
    "counts[1]['count(DISTINCT cr)']"
   ]
  },
  {
   "cell_type": "code",
   "execution_count": 9,
   "metadata": {},
   "outputs": [],
   "source": [
    "# Put DataCatalogs ID's and CodeRepo's counts together\n",
    "\n",
    "helper_dict={'item': [],\n",
    "            'counts':[]}\n",
    "\n",
    "for i in range (0, len(counts)-1):\n",
    "    helper_dict['item'].append(counts[i]['properties(dc)']['id'])\n",
    "    helper_dict['counts'].append(counts[i]['count(DISTINCT cr)'])\n",
    "\n",
    "counts_df = pd.DataFrame(helper_dict)\n",
    "counts_df = counts_df.rename(columns={'item':'dacat', 'counts':'cr_counts'})"
   ]
  },
  {
   "cell_type": "markdown",
   "metadata": {},
   "source": [
    "## Getting Other MetaData"
   ]
  },
  {
   "cell_type": "code",
   "execution_count": 10,
   "metadata": {},
   "outputs": [],
   "source": [
    "data = graph.run('''MATCH (k:KEYWORD {keyword: \"earth science\"})\\\n",
    "MATCH (k)<-[:hasKeyword]-(a1:ANNOTATION)-[:Body]->(dc:dataCat)\\\n",
    "MATCH (dc)<-[:Target]-(a2:ANNOTATION)-[:Target]->(cr:codeRepo)\\\n",
    "RETURN distinct properties(dc), properties(cr)''').data()"
   ]
  },
  {
   "cell_type": "code",
   "execution_count": 11,
   "metadata": {},
   "outputs": [
    {
     "data": {
      "text/plain": [
       "dict_keys(['properties(dc)', 'properties(cr)'])"
      ]
     },
     "execution_count": 11,
     "metadata": {},
     "output_type": "execute_result"
    }
   ],
   "source": [
    "dict1 = data[0]\n",
    "dict1.keys()"
   ]
  },
  {
   "cell_type": "code",
   "execution_count": 12,
   "metadata": {},
   "outputs": [
    {
     "data": {
      "text/plain": [
       "'r3d100010356'"
      ]
     },
     "execution_count": 12,
     "metadata": {},
     "output_type": "execute_result"
    }
   ],
   "source": [
    "dict1['properties(dc)']['id']"
   ]
  },
  {
   "cell_type": "code",
   "execution_count": 13,
   "metadata": {},
   "outputs": [
    {
     "data": {
      "text/plain": [
       "'{\"id\": 37471462, \"repo\": \"ramadda\", \"owner\": \"donmurray\", \"name\": \"donmurray/ramadda\", \"url\": \"https://github.com/donmurray/ramadda\", \"created\": \"2015-06-15 (14:49:29.000000)\", \"description\": null, \"topics\": [], \"readme\": {\"readme\": {\"readme\": true, \"badges\": 0, \"headings\": 0, \"char\": 3369}, \"license\": \"Other\"}, \"commits\": {\"totalCommits\": 5604, \"range\": [\"2015-06-09 (01:08:44.000000)\", \"2015-06-13 (12:33:09.000000)\"], \"authors\": [null]}, \"languages\": {\"Java\": 10267669, \"JavaScript\": 1088747, \"HTML\": 958926, \"CSS\": 384048, \"Tcl\": 156286, \"Shell\": 30045, \"Batchfile\": 653, \"Python\": 210}, \"stars\": 0, \"forks\": 0, \"fork\": false, \"issues\": 0, \"branches\": 1, \"watchers\": 0, \"checkdate\": \"2020-11-08 (23:59:26.409711)\"}'"
      ]
     },
     "execution_count": 13,
     "metadata": {},
     "output_type": "execute_result"
    }
   ],
   "source": [
    "dict1['properties(cr)']['meta']"
   ]
  },
  {
   "cell_type": "code",
   "execution_count": 14,
   "metadata": {},
   "outputs": [
    {
     "data": {
      "text/plain": [
       "'{\"id\": 37471462, \"repo\": \"ramadda\", \"owner\": \"donmurray\", \"name\": \"donmurray/ramadda\", \"url\": \"https://github.com/donmurray/ramadda\", \"created\": \"2015-06-15 (14:49:29.000000)\", \"description\": null, \"topics\": [], \"readme\": {\"readme\": {\"readme\": true, \"badges\": 0, \"headings\": 0, \"char\": 3369}, \"license\": \"Other\"}, \"commits\": {\"totalCommits\": 5604, \"range\": [\"2015-06-09 (01:08:44.000000)\", \"2015-06-13 (12:33:09.000000)\"], \"authors\": [null]}, \"languages\": {\"Java\": 10267669, \"JavaScript\": 1088747, \"HTML\": 958926, \"CSS\": 384048, \"Tcl\": 156286, \"Shell\": 30045, \"Batchfile\": 653, \"Python\": 210}, \"stars\": 0, \"forks\": 0, \"fork\": false, \"issues\": 0, \"branches\": 1, \"watchers\": 0, \"checkdate\": \"2020-11-08 (23:59:26.409711)\"}'"
      ]
     },
     "execution_count": 14,
     "metadata": {},
     "output_type": "execute_result"
    }
   ],
   "source": [
    "string = dict1['properties(cr)']['meta'] # this is a string, from here, using find and REGEX, get commits \n",
    "string"
   ]
  },
  {
   "cell_type": "code",
   "execution_count": 15,
   "metadata": {},
   "outputs": [
    {
     "data": {
      "text/plain": [
       "0"
      ]
     },
     "execution_count": 15,
     "metadata": {},
     "output_type": "execute_result"
    }
   ],
   "source": [
    "response = json.loads(string) \n",
    "response['forks']"
   ]
  },
  {
   "cell_type": "code",
   "execution_count": 16,
   "metadata": {},
   "outputs": [
    {
     "data": {
      "text/plain": [
       "37471462"
      ]
     },
     "execution_count": 16,
     "metadata": {},
     "output_type": "execute_result"
    }
   ],
   "source": [
    "response['id']"
   ]
  },
  {
   "cell_type": "markdown",
   "metadata": {},
   "source": [
    "## Metadata to DF"
   ]
  },
  {
   "cell_type": "code",
   "execution_count": 17,
   "metadata": {},
   "outputs": [],
   "source": [
    "helper_dict = None\n",
    "helper_dict = {'dacat': [],\n",
    "               'meta':[],\n",
    "               'cr_item': [],\n",
    "               'forks':[],\n",
    "               'commits':[],\n",
    "               'contributors':[]}\n",
    "\n",
    "for i in range (0, len(data)-1):\n",
    "    helper_dict['dacat'].append(data[i]['properties(dc)']['id'])\n",
    "    try:\n",
    "        helper_dict['meta'].append(data[i]['properties(cr)']['meta'])\n",
    "        json_data = json.loads(data[i]['properties(cr)']['meta'])\n",
    "        helper_data = json_data['id']\n",
    "        \n",
    "        # Forks\n",
    "        forks = json_data['forks']\n",
    "        helper_dict['cr_item'].append(helper_data)\n",
    "        helper_dict['forks'].append(forks)\n",
    "        \n",
    "        # Commits\n",
    "        commits = json_data['commits']['totalCommits']\n",
    "        helper_dict['commits'].append(commits)\n",
    "        \n",
    "        # Contributors \n",
    "        contributors = json_data['commits']['authors']\n",
    "        helper_dict['contributors'].append(len(contributors))\n",
    "        \n",
    "    # Take care of empty spaces.    \n",
    "    except KeyError:\n",
    "        helper_dict['meta'].append(\"None2\")\n",
    "        helper_dict['cr_item'].append(\"Missing\")\n",
    "        helper_dict['forks'].append(\"Missing\")\n",
    "        helper_dict['commits'].append(\"Missing\")\n",
    "        helper_dict['contributors'].append(\"Missing\")\n",
    "        \n",
    "\n",
    "meta_df = pd.DataFrame(helper_dict)\n",
    "meta_df = meta_df[meta_df['meta'] != \"None2\"]\n",
    "meta_df = meta_df[['dacat', 'cr_item', 'forks', 'commits', 'contributors']]\n",
    "meta_df = meta_df.astype({'cr_item':'str', 'forks': 'int64', 'commits': 'int64', 'contributors': 'int64'})"
   ]
  },
  {
   "cell_type": "code",
   "execution_count": 18,
   "metadata": {},
   "outputs": [
    {
     "data": {
      "text/html": [
       "<div>\n",
       "<style scoped>\n",
       "    .dataframe tbody tr th:only-of-type {\n",
       "        vertical-align: middle;\n",
       "    }\n",
       "\n",
       "    .dataframe tbody tr th {\n",
       "        vertical-align: top;\n",
       "    }\n",
       "\n",
       "    .dataframe thead th {\n",
       "        text-align: right;\n",
       "    }\n",
       "</style>\n",
       "<table border=\"1\" class=\"dataframe\">\n",
       "  <thead>\n",
       "    <tr style=\"text-align: right;\">\n",
       "      <th></th>\n",
       "      <th>forks</th>\n",
       "      <th>commits</th>\n",
       "      <th>contributors</th>\n",
       "    </tr>\n",
       "  </thead>\n",
       "  <tbody>\n",
       "    <tr>\n",
       "      <th>count</th>\n",
       "      <td>328.000000</td>\n",
       "      <td>328.000000</td>\n",
       "      <td>328.000000</td>\n",
       "    </tr>\n",
       "    <tr>\n",
       "      <th>mean</th>\n",
       "      <td>5.987805</td>\n",
       "      <td>1158.920732</td>\n",
       "      <td>5.463415</td>\n",
       "    </tr>\n",
       "    <tr>\n",
       "      <th>std</th>\n",
       "      <td>29.254757</td>\n",
       "      <td>4694.785140</td>\n",
       "      <td>28.739873</td>\n",
       "    </tr>\n",
       "    <tr>\n",
       "      <th>min</th>\n",
       "      <td>0.000000</td>\n",
       "      <td>1.000000</td>\n",
       "      <td>1.000000</td>\n",
       "    </tr>\n",
       "    <tr>\n",
       "      <th>25%</th>\n",
       "      <td>0.000000</td>\n",
       "      <td>12.000000</td>\n",
       "      <td>1.000000</td>\n",
       "    </tr>\n",
       "    <tr>\n",
       "      <th>50%</th>\n",
       "      <td>0.000000</td>\n",
       "      <td>54.000000</td>\n",
       "      <td>2.000000</td>\n",
       "    </tr>\n",
       "    <tr>\n",
       "      <th>75%</th>\n",
       "      <td>2.000000</td>\n",
       "      <td>251.500000</td>\n",
       "      <td>3.000000</td>\n",
       "    </tr>\n",
       "    <tr>\n",
       "      <th>max</th>\n",
       "      <td>417.000000</td>\n",
       "      <td>55881.000000</td>\n",
       "      <td>504.000000</td>\n",
       "    </tr>\n",
       "  </tbody>\n",
       "</table>\n",
       "</div>"
      ],
      "text/plain": [
       "            forks       commits  contributors\n",
       "count  328.000000    328.000000    328.000000\n",
       "mean     5.987805   1158.920732      5.463415\n",
       "std     29.254757   4694.785140     28.739873\n",
       "min      0.000000      1.000000      1.000000\n",
       "25%      0.000000     12.000000      1.000000\n",
       "50%      0.000000     54.000000      2.000000\n",
       "75%      2.000000    251.500000      3.000000\n",
       "max    417.000000  55881.000000    504.000000"
      ]
     },
     "execution_count": 18,
     "metadata": {},
     "output_type": "execute_result"
    }
   ],
   "source": [
    "meta_df.describe()"
   ]
  },
  {
   "cell_type": "markdown",
   "metadata": {},
   "source": [
    "### Grouping/Plotting by Data Catalog"
   ]
  },
  {
   "cell_type": "code",
   "execution_count": 19,
   "metadata": {},
   "outputs": [],
   "source": [
    "grouped_dc = None\n",
    "grouped_dc = meta_df.groupby('dacat').sum().reset_index()\n",
    "grouped_dc = grouped_dc.merge(counts_df)\n",
    "grouped_dc = grouped_dc[['dacat', 'cr_counts', 'forks', 'commits', 'contributors']]"
   ]
  },
  {
   "cell_type": "code",
   "execution_count": 20,
   "metadata": {
    "scrolled": true
   },
   "outputs": [
    {
     "data": {
      "application/vnd.jupyter.widget-view+json": {
       "model_id": "fc663b09389240c5bac334d8fbf579b1",
       "version_major": 2,
       "version_minor": 0
      },
      "text/plain": [
       "interactive(children=(Dropdown(description='column', options=('cr_counts', 'forks', 'commits', 'contributors')…"
      ]
     },
     "metadata": {},
     "output_type": "display_data"
    }
   ],
   "source": [
    "@interact(x=(0,500))\n",
    "def show_dc_more_than(column=['cr_counts','forks', 'commits', 'contributors'], x = 1):\n",
    "    grouped_dc\n",
    "    \n",
    "    return grouped_dc.loc[grouped_dc[column] > x]"
   ]
  },
  {
   "cell_type": "code",
   "execution_count": 21,
   "metadata": {},
   "outputs": [
    {
     "data": {
      "application/vnd.jupyter.widget-view+json": {
       "model_id": "ca8d2cd59056477e8762eb1d067c9d8a",
       "version_major": 2,
       "version_minor": 0
      },
      "text/plain": [
       "interactive(children=(Dropdown(description='x', options=('dacat',), value='dacat'), Dropdown(description='y', …"
      ]
     },
     "metadata": {},
     "output_type": "display_data"
    }
   ],
   "source": [
    "@interact\n",
    "def histogram_plot(x = list(grouped_dc.select_dtypes('object').columns), \n",
    "                   y = list(grouped_dc.select_dtypes('int64').columns)[0:]):\n",
    "    \n",
    "    # trace\n",
    "    trace = [go.Bar(x=grouped_dc[x], y=grouped_dc[y])]\n",
    "\n",
    "    # layout\n",
    "    layout = go.Layout(\n",
    "                title = 'Counts plot', # Graph title\n",
    "                xaxis = dict(title = x.title()), # x-axis label\n",
    "                yaxis = dict(title = y.title()), # y-axis label\n",
    "                hovermode ='closest' # handles multiple points landing on the same vertical\n",
    "    )\n",
    "\n",
    "    # fig\n",
    "    fig = go.Figure(trace, layout)\n",
    "    fig.show()"
   ]
  },
  {
   "cell_type": "markdown",
   "metadata": {},
   "source": [
    "### Grouping/Plotting by Code Repository"
   ]
  },
  {
   "cell_type": "code",
   "execution_count": 22,
   "metadata": {},
   "outputs": [],
   "source": [
    "grouped_cr = None\n",
    "grouped_cr = meta_df.groupby('cr_item').sum().reset_index()\n",
    "grouped_cr['cr_item']=grouped_cr['cr_item']+'cr'"
   ]
  },
  {
   "cell_type": "code",
   "execution_count": 23,
   "metadata": {},
   "outputs": [
    {
     "data": {
      "application/vnd.jupyter.widget-view+json": {
       "model_id": "1e2a05b2d8a64348aa5433c0570a357f",
       "version_major": 2,
       "version_minor": 0
      },
      "text/plain": [
       "interactive(children=(Dropdown(description='column', options=('forks', 'commits', 'contributors'), value='fork…"
      ]
     },
     "metadata": {},
     "output_type": "display_data"
    }
   ],
   "source": [
    "@interact(x=(0,500))\n",
    "def show_dc_more_than(column=['forks', 'commits', 'contributors'], x = 1):\n",
    "    grouped_cr\n",
    "    \n",
    "    \n",
    "    return grouped_cr.loc[grouped_cr[column] > x]"
   ]
  },
  {
   "cell_type": "code",
   "execution_count": 24,
   "metadata": {},
   "outputs": [
    {
     "data": {
      "application/vnd.jupyter.widget-view+json": {
       "model_id": "11cc2fd07b9f475a8c69aaa9a16c3636",
       "version_major": 2,
       "version_minor": 0
      },
      "text/plain": [
       "interactive(children=(Dropdown(description='x', options=('cr_item',), value='cr_item'), Dropdown(description='…"
      ]
     },
     "metadata": {},
     "output_type": "display_data"
    }
   ],
   "source": [
    "@interact\n",
    "def histogram_plot(x = list(grouped_cr.select_dtypes('object').columns), \n",
    "                   y = list(grouped_cr.select_dtypes('int64').columns)[0:]):\n",
    "    \n",
    "    # trace\n",
    "    trace = [go.Bar(x=grouped_cr[x], y=grouped_cr[y])]\n",
    "\n",
    "    # layout\n",
    "    layout = go.Layout(\n",
    "                title = 'Counts plot', # Graph title\n",
    "                xaxis = dict(title = x.title()), # x-axis label\n",
    "                yaxis = dict(title = y.title()), # y-axis label\n",
    "                hovermode ='closest' # handles multiple points landing on the same vertical\n",
    "    )\n",
    "\n",
    "    # fig\n",
    "    fig = go.Figure(trace, layout)\n",
    "    fig.show()"
   ]
  },
  {
   "cell_type": "markdown",
   "metadata": {},
   "source": [
    "## Filtering Surprising Data Points for Analysis"
   ]
  },
  {
   "cell_type": "markdown",
   "metadata": {},
   "source": [
    "## Extraodinary Repo over 400 Forks"
   ]
  },
  {
   "cell_type": "code",
   "execution_count": 25,
   "metadata": {},
   "outputs": [
    {
     "data": {
      "text/html": [
       "<div>\n",
       "<style scoped>\n",
       "    .dataframe tbody tr th:only-of-type {\n",
       "        vertical-align: middle;\n",
       "    }\n",
       "\n",
       "    .dataframe tbody tr th {\n",
       "        vertical-align: top;\n",
       "    }\n",
       "\n",
       "    .dataframe thead th {\n",
       "        text-align: right;\n",
       "    }\n",
       "</style>\n",
       "<table border=\"1\" class=\"dataframe\">\n",
       "  <thead>\n",
       "    <tr style=\"text-align: right;\">\n",
       "      <th></th>\n",
       "      <th>dacat</th>\n",
       "      <th>cr_item</th>\n",
       "      <th>forks</th>\n",
       "      <th>commits</th>\n",
       "      <th>contributors</th>\n",
       "    </tr>\n",
       "  </thead>\n",
       "  <tbody>\n",
       "    <tr>\n",
       "      <th>302</th>\n",
       "      <td>r3d100011758</td>\n",
       "      <td>12745174</td>\n",
       "      <td>417</td>\n",
       "      <td>55881</td>\n",
       "      <td>504</td>\n",
       "    </tr>\n",
       "  </tbody>\n",
       "</table>\n",
       "</div>"
      ],
      "text/plain": [
       "            dacat   cr_item  forks  commits  contributors\n",
       "302  r3d100011758  12745174    417    55881           504"
      ]
     },
     "execution_count": 25,
     "metadata": {},
     "output_type": "execute_result"
    }
   ],
   "source": [
    "meta_df[meta_df['forks']>300]"
   ]
  },
  {
   "cell_type": "markdown",
   "metadata": {},
   "source": [
    "## Data Catalog it belongs to"
   ]
  },
  {
   "cell_type": "code",
   "execution_count": 26,
   "metadata": {},
   "outputs": [
    {
     "data": {
      "text/html": [
       "<div>\n",
       "<style scoped>\n",
       "    .dataframe tbody tr th:only-of-type {\n",
       "        vertical-align: middle;\n",
       "    }\n",
       "\n",
       "    .dataframe tbody tr th {\n",
       "        vertical-align: top;\n",
       "    }\n",
       "\n",
       "    .dataframe thead th {\n",
       "        text-align: right;\n",
       "    }\n",
       "</style>\n",
       "<table border=\"1\" class=\"dataframe\">\n",
       "  <thead>\n",
       "    <tr style=\"text-align: right;\">\n",
       "      <th></th>\n",
       "      <th>dacat</th>\n",
       "      <th>cr_item</th>\n",
       "      <th>forks</th>\n",
       "      <th>commits</th>\n",
       "      <th>contributors</th>\n",
       "    </tr>\n",
       "  </thead>\n",
       "  <tbody>\n",
       "    <tr>\n",
       "      <th>302</th>\n",
       "      <td>r3d100011758</td>\n",
       "      <td>12745174</td>\n",
       "      <td>417</td>\n",
       "      <td>55881</td>\n",
       "      <td>504</td>\n",
       "    </tr>\n",
       "    <tr>\n",
       "      <th>314</th>\n",
       "      <td>r3d100011758</td>\n",
       "      <td>33125718</td>\n",
       "      <td>142</td>\n",
       "      <td>12237</td>\n",
       "      <td>3</td>\n",
       "    </tr>\n",
       "    <tr>\n",
       "      <th>328</th>\n",
       "      <td>r3d100011758</td>\n",
       "      <td>90807748</td>\n",
       "      <td>79</td>\n",
       "      <td>112</td>\n",
       "      <td>2</td>\n",
       "    </tr>\n",
       "  </tbody>\n",
       "</table>\n",
       "</div>"
      ],
      "text/plain": [
       "            dacat   cr_item  forks  commits  contributors\n",
       "302  r3d100011758  12745174    417    55881           504\n",
       "314  r3d100011758  33125718    142    12237             3\n",
       "328  r3d100011758  90807748     79      112             2"
      ]
     },
     "execution_count": 26,
     "metadata": {},
     "output_type": "execute_result"
    }
   ],
   "source": [
    "meta_df[(meta_df['dacat']=='r3d100011758') & (meta_df['forks']>50)]"
   ]
  },
  {
   "cell_type": "code",
   "execution_count": null,
   "metadata": {},
   "outputs": [],
   "source": []
  }
 ],
 "metadata": {
  "kernelspec": {
   "display_name": "Python 3",
   "language": "python",
   "name": "python3"
  },
  "language_info": {
   "codemirror_mode": {
    "name": "ipython",
    "version": 3
   },
   "file_extension": ".py",
   "mimetype": "text/x-python",
   "name": "python",
   "nbconvert_exporter": "python",
   "pygments_lexer": "ipython3",
   "version": "3.7.4"
  }
 },
 "nbformat": 4,
 "nbformat_minor": 2
}
