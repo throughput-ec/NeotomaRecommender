{
 "cells": [
  {
   "cell_type": "code",
   "execution_count": 1,
   "metadata": {},
   "outputs": [],
   "source": [
    "import pandas as pd\n",
    "import numpy as np\n",
    "import config as cfg\n",
    "import json\n",
    "\n",
    "# Load py2neo\n",
    "import py2neo\n",
    "from py2neo import Graph\n",
    "from py2neo.matching import *"
   ]
  },
  {
   "cell_type": "markdown",
   "metadata": {},
   "source": [
    "# Throughput Github Analysis\n",
    "\n",
    "This is a research project led by PhD Simon Goring.\n",
    "\n",
    "Different research questions are tried to be answer such as: \n",
    "\n",
    "- How do individuals and organizations use GitHub (or other public code repositories) to reference, analyze or reuse data from Data Catalogs?\n",
    "\n",
    "- Are there clear patterns of use across public repositories?\n",
    "\n",
    "- Do patterns of use differ by data/disciplinary domain, or do properties of the data resource (presence of an API, online documentation, size of user community) affect patterns of use? \n",
    "\n",
    "- Does the data reuse observed here expand our understanding of current modes of data reuse, e.g. those outlined in https://datascience.codata.org/articles/10.5334/dsj-2017-008/ ?\n",
    "\n",
    "- What are the characteristics and shape of the Earth Science research object network?\n",
    "- What are major nodes of connectivity?\n",
    "- What poorly connected islands exist? \n",
    "- What is the nature of data reuse in this network?\n",
    "- What downstream/second order grant products can be identified from this network?"
   ]
  },
  {
   "cell_type": "markdown",
   "metadata": {},
   "source": [
    "## Current Approach\n",
    "\n",
    "Categorizing a subset of scraped repos, with pre-defined types, which may be updated iteratively as categorization progresses (education, analysis, archiving, informational).\n",
    "\n",
    "\n",
    "Using ML techniques, we might be able to classify repos according to type automatically; and could consider classifying according to repository quality/completeness. Repository quality or completeness would be defined by:\n",
    "\n",
    "- presence/absence/length of readme\n",
    "- number of commits\n",
    "- number of contributors\n",
    "\n",
    "By using neo4j, we can construct and analyze the network graph in order to get:\n",
    "- Centrality and level of connection\n",
    "- Identification of small networks/islands within the network\n",
    "- What databases are highly connected and which are not?\n",
    "- Use database properties (has API, online search portal, has R/Python package, has user forum . . .)"
   ]
  },
  {
   "cell_type": "markdown",
   "metadata": {},
   "source": [
    "## Objective of the Notebook"
   ]
  },
  {
   "cell_type": "markdown",
   "metadata": {},
   "source": [
    "This Notebook is going to be used to created an initial Data Exploratory using Neo4j in order to later on, create a Recommendation System using of graph databases. \n",
    "\n",
    "In its initial stages, it might look rough, but this will be improved as it is updated and upgraded."
   ]
  },
  {
   "cell_type": "markdown",
   "metadata": {},
   "source": [
    "First, let's connect to Neo4j's graph.\n",
    "\n",
    "There is a `config.py` script, imported as `cfg` that includes personal credentials to log into the database. A `config_sample.py` script has been included. There, change the words `username` and `password` accordingly to match your own credentials.\n",
    "\n",
    "The port that neo4j automatically usees is 7687 when working in a local database."
   ]
  },
  {
   "cell_type": "code",
   "execution_count": 2,
   "metadata": {},
   "outputs": [],
   "source": [
    "# Connect to Graph\n",
    "graph = Graph(\"bolt://localhost:7687\", auth=(cfg.neo4j['auth']), bolt=True, password=cfg.neo4j['password'])"
   ]
  },
  {
   "cell_type": "code",
   "execution_count": 3,
   "metadata": {},
   "outputs": [
    {
     "data": {
      "text/plain": [
       "Graph('bolt://neo4j@localhost:7687', name='neo4j')"
      ]
     },
     "execution_count": 3,
     "metadata": {},
     "output_type": "execute_result"
    }
   ],
   "source": [
    "graph"
   ]
  },
  {
   "cell_type": "markdown",
   "metadata": {},
   "source": [
    "In order to select nodes that are a certain kind, we use the command `match`. "
   ]
  },
  {
   "cell_type": "code",
   "execution_count": 4,
   "metadata": {},
   "outputs": [],
   "source": [
    "nodes = NodeMatcher(graph)"
   ]
  },
  {
   "cell_type": "code",
   "execution_count": 5,
   "metadata": {},
   "outputs": [
    {
     "data": {
      "text/plain": [
       "Node('AGENT', homepage='https://github.com/throughput-ec/github_scrapers', name='Code scrapers')"
      ]
     },
     "execution_count": 5,
     "metadata": {},
     "output_type": "execute_result"
    }
   ],
   "source": [
    "# Match the first node.\n",
    "nodes.match(\"AGENT\").first()"
   ]
  },
  {
   "cell_type": "markdown",
   "metadata": {},
   "source": [
    "In order to run queries, you can do `graph.run()` and do the Querie inside quotes. Although you can convert to dataframe using `to_data_frame()`, I would not recommend it as most of the information is nested."
   ]
  },
  {
   "cell_type": "code",
   "execution_count": 6,
   "metadata": {},
   "outputs": [
    {
     "data": {
      "text/html": [
       "<div>\n",
       "<style scoped>\n",
       "    .dataframe tbody tr th:only-of-type {\n",
       "        vertical-align: middle;\n",
       "    }\n",
       "\n",
       "    .dataframe tbody tr th {\n",
       "        vertical-align: top;\n",
       "    }\n",
       "\n",
       "    .dataframe thead th {\n",
       "        text-align: right;\n",
       "    }\n",
       "</style>\n",
       "<table border=\"1\" class=\"dataframe\">\n",
       "  <thead>\n",
       "    <tr style=\"text-align: right;\">\n",
       "      <th></th>\n",
       "      <th>n</th>\n",
       "    </tr>\n",
       "  </thead>\n",
       "  <tbody>\n",
       "    <tr>\n",
       "      <th>0</th>\n",
       "      <td>{'name': 'Code scrapers', 'homepage': 'https:/...</td>\n",
       "    </tr>\n",
       "    <tr>\n",
       "      <th>1</th>\n",
       "      <td>{'name': 'Keyword synonymy', 'homepage': 'http...</td>\n",
       "    </tr>\n",
       "    <tr>\n",
       "      <th>2</th>\n",
       "      <td>{'name': 'Simon Goring', 'id': '0000-0002-2700...</td>\n",
       "    </tr>\n",
       "  </tbody>\n",
       "</table>\n",
       "</div>"
      ],
      "text/plain": [
       "                                                   n\n",
       "0  {'name': 'Code scrapers', 'homepage': 'https:/...\n",
       "1  {'name': 'Keyword synonymy', 'homepage': 'http...\n",
       "2  {'name': 'Simon Goring', 'id': '0000-0002-2700..."
      ]
     },
     "execution_count": 6,
     "metadata": {},
     "output_type": "execute_result"
    }
   ],
   "source": [
    "my_list = graph.run(\"MATCH (n:AGENT) RETURN n LIMIT 25\").to_data_frame()\n",
    "my_list.head(3)"
   ]
  },
  {
   "cell_type": "markdown",
   "metadata": {},
   "source": [
    "Instead, do `data()` and work with the list of dictionaries to unnest."
   ]
  },
  {
   "cell_type": "code",
   "execution_count": 7,
   "metadata": {},
   "outputs": [
    {
     "data": {
      "text/plain": [
       "[{'n': Node('AGENT', homepage='https://github.com/throughput-ec/github_scrapers', name='Code scrapers')},\n",
       " {'n': Node('AGENT', homepage='https://github.com/throughput-ec/throughputdb/keywordMgmt', name='Keyword synonymy')},\n",
       " {'n': Node('AGENT', created=1586830369606, id='0000-0002-2700-4605', name='Simon Goring')},\n",
       " {'n': Node('AGENT', homepage='https://github.com/throughput-ec/throughputdb', name='Database addition')},\n",
       " {'n': Node('AGENT', homepage='https://github.com/throughput-ec/throughputdb/Re3Databases', name='Keyword addition')},\n",
       " {'n': Node('AGENT', homepage='https://github.com/throughput-ec/throughputdb/ropensci_libraries', name='Keyword addition')},\n",
       " {'n': Node('AGENT', homepage='https://github.com/throughput-ec/throughputdb/ropensci_libraries', name='ROpensci Code Addition')},\n",
       " {'n': Node('AGENT', email='', name='Schlesinger, S.')},\n",
       " {'n': Node('AGENT', homepage='https://github.com/throughput-ec/throughputdb', name='GitHub code linker')},\n",
       " {'n': Node('AGENT', email='chemap@emory.edu', name='Padwa, Albert')}]"
      ]
     },
     "execution_count": 7,
     "metadata": {},
     "output_type": "execute_result"
    }
   ],
   "source": [
    "trial = graph.run(\"MATCH (n:AGENT) RETURN n LIMIT 10\").data()\n",
    "trial"
   ]
  },
  {
   "cell_type": "markdown",
   "metadata": {},
   "source": [
    "As seen above, the nature of nested dictionaries in lists, will definitely represent a challenge when trying to organized data and functions will be needed to make sure each observation's data is appropriately organized in the corresponding features. To convert a list that should be a dictionary use: `json.loads(list_that_should_be_dictionary)`"
   ]
  },
  {
   "cell_type": "markdown",
   "metadata": {},
   "source": [
    "### Useful queries for counting observations"
   ]
  },
  {
   "cell_type": "code",
   "execution_count": 8,
   "metadata": {},
   "outputs": [
    {
     "data": {
      "text/html": [
       "<div>\n",
       "<style scoped>\n",
       "    .dataframe tbody tr th:only-of-type {\n",
       "        vertical-align: middle;\n",
       "    }\n",
       "\n",
       "    .dataframe tbody tr th {\n",
       "        vertical-align: top;\n",
       "    }\n",
       "\n",
       "    .dataframe thead th {\n",
       "        text-align: right;\n",
       "    }\n",
       "</style>\n",
       "<table border=\"1\" class=\"dataframe\">\n",
       "  <thead>\n",
       "    <tr style=\"text-align: right;\">\n",
       "      <th></th>\n",
       "      <th>COUNT(DISTINCT ocr)</th>\n",
       "    </tr>\n",
       "  </thead>\n",
       "  <tbody>\n",
       "    <tr>\n",
       "      <th>0</th>\n",
       "      <td>73563</td>\n",
       "    </tr>\n",
       "  </tbody>\n",
       "</table>\n",
       "</div>"
      ],
      "text/plain": [
       "   COUNT(DISTINCT ocr)\n",
       "0                73563"
      ]
     },
     "execution_count": 8,
     "metadata": {},
     "output_type": "execute_result"
    }
   ],
   "source": [
    "graph.run('MATCH (crt:TYPE {type:\"schema:CodeRepository\"})\\\n",
    "           MATCH (crt)<-[:isType]-(ocr:OBJECT) \\\n",
    "           RETURN COUNT(DISTINCT ocr)').to_data_frame()"
   ]
  },
  {
   "cell_type": "markdown",
   "metadata": {},
   "source": [
    "# EDA to get the right queries\n",
    "\n",
    "In order to figure out how to create a ML model, we need to extract the correct data from the Throughput database.\n",
    "\n",
    "We will analyze and graph the following:\n",
    "- Distribution of references to DBs"
   ]
  },
  {
   "cell_type": "markdown",
   "metadata": {},
   "source": [
    "- Note 'Earth Science' databases within graph\n",
    "    - X = DBs; y = # of referenced repos\n",
    "    - Linked repos (x) by commits (y)"
   ]
  },
  {
   "cell_type": "markdown",
   "metadata": {},
   "source": [
    "- Note ES commits \n",
    "    - Linked repos (x) by # of contributors (y)\n",
    "    - Linked repos (x) by # of forks (y)"
   ]
  },
  {
   "cell_type": "markdown",
   "metadata": {},
   "source": [
    "## Getting DataCatalogs and Counts(CodeRepos)"
   ]
  },
  {
   "cell_type": "code",
   "execution_count": 9,
   "metadata": {},
   "outputs": [],
   "source": [
    "counts = graph.run('''MATCH (k:KEYWORD {keyword: \"earth science\"})\\\n",
    "MATCH (k)<-[:hasKeyword]-(:ANNOTATION)-[:Body]->(dc:dataCat)\\\n",
    "MATCH (dc)<-[:Target]-(:ANNOTATION)-[:Target]->(cr:codeRepo)\\\n",
    "RETURN DISTINCT properties(dc), count(DISTINCT cr)''').data()"
   ]
  },
  {
   "cell_type": "markdown",
   "metadata": {},
   "source": [
    "![](img/01_graph.png)"
   ]
  },
  {
   "cell_type": "markdown",
   "metadata": {},
   "source": [
    "### Example on extracting data"
   ]
  },
  {
   "cell_type": "code",
   "execution_count": 10,
   "metadata": {},
   "outputs": [
    {
     "data": {
      "text/plain": [
       "'r3d100010867'"
      ]
     },
     "execution_count": 10,
     "metadata": {},
     "output_type": "execute_result"
    }
   ],
   "source": [
    "# Extracting ID of Data Catalog\n",
    "counts[1]['properties(dc)']['id']"
   ]
  },
  {
   "cell_type": "code",
   "execution_count": 11,
   "metadata": {},
   "outputs": [
    {
     "data": {
      "text/plain": [
       "8"
      ]
     },
     "execution_count": 11,
     "metadata": {},
     "output_type": "execute_result"
    }
   ],
   "source": [
    "# Extracting number of CodeRepos linked to Data Catalog\n",
    "counts[1]['count(DISTINCT cr)']"
   ]
  },
  {
   "cell_type": "code",
   "execution_count": 12,
   "metadata": {},
   "outputs": [
    {
     "data": {
      "text/html": [
       "<div>\n",
       "<style scoped>\n",
       "    .dataframe tbody tr th:only-of-type {\n",
       "        vertical-align: middle;\n",
       "    }\n",
       "\n",
       "    .dataframe tbody tr th {\n",
       "        vertical-align: top;\n",
       "    }\n",
       "\n",
       "    .dataframe thead th {\n",
       "        text-align: right;\n",
       "    }\n",
       "</style>\n",
       "<table border=\"1\" class=\"dataframe\">\n",
       "  <thead>\n",
       "    <tr style=\"text-align: right;\">\n",
       "      <th></th>\n",
       "      <th>item</th>\n",
       "      <th>counts</th>\n",
       "    </tr>\n",
       "  </thead>\n",
       "  <tbody>\n",
       "    <tr>\n",
       "      <th>0</th>\n",
       "      <td>r3d100010356</td>\n",
       "      <td>7</td>\n",
       "    </tr>\n",
       "    <tr>\n",
       "      <th>1</th>\n",
       "      <td>r3d100010867</td>\n",
       "      <td>8</td>\n",
       "    </tr>\n",
       "    <tr>\n",
       "      <th>2</th>\n",
       "      <td>r3d100010996</td>\n",
       "      <td>67</td>\n",
       "    </tr>\n",
       "    <tr>\n",
       "      <th>3</th>\n",
       "      <td>r3d100012500</td>\n",
       "      <td>4</td>\n",
       "    </tr>\n",
       "    <tr>\n",
       "      <th>4</th>\n",
       "      <td>r3d100012046</td>\n",
       "      <td>5</td>\n",
       "    </tr>\n",
       "    <tr>\n",
       "      <th>5</th>\n",
       "      <td>r3d100012585</td>\n",
       "      <td>1</td>\n",
       "    </tr>\n",
       "    <tr>\n",
       "      <th>6</th>\n",
       "      <td>r3d100010660</td>\n",
       "      <td>12</td>\n",
       "    </tr>\n",
       "    <tr>\n",
       "      <th>7</th>\n",
       "      <td>r3d100011524</td>\n",
       "      <td>21</td>\n",
       "    </tr>\n",
       "    <tr>\n",
       "      <th>8</th>\n",
       "      <td>r3d100012138</td>\n",
       "      <td>31</td>\n",
       "    </tr>\n",
       "    <tr>\n",
       "      <th>9</th>\n",
       "      <td>r3d100010092</td>\n",
       "      <td>24</td>\n",
       "    </tr>\n",
       "    <tr>\n",
       "      <th>10</th>\n",
       "      <td>r3d100010134</td>\n",
       "      <td>93</td>\n",
       "    </tr>\n",
       "    <tr>\n",
       "      <th>11</th>\n",
       "      <td>r3d100011716</td>\n",
       "      <td>1</td>\n",
       "    </tr>\n",
       "  </tbody>\n",
       "</table>\n",
       "</div>"
      ],
      "text/plain": [
       "            item  counts\n",
       "0   r3d100010356       7\n",
       "1   r3d100010867       8\n",
       "2   r3d100010996      67\n",
       "3   r3d100012500       4\n",
       "4   r3d100012046       5\n",
       "5   r3d100012585       1\n",
       "6   r3d100010660      12\n",
       "7   r3d100011524      21\n",
       "8   r3d100012138      31\n",
       "9   r3d100010092      24\n",
       "10  r3d100010134      93\n",
       "11  r3d100011716       1"
      ]
     },
     "execution_count": 12,
     "metadata": {},
     "output_type": "execute_result"
    }
   ],
   "source": [
    "# Put DataCatalogs ID's and CodeRepo's counts together\n",
    "\n",
    "helper_dict={'item': [],\n",
    "            'counts':[]}\n",
    "\n",
    "for i in range (0, len(counts)-1):\n",
    "    helper_dict['item'].append(counts[i]['properties(dc)']['id'])\n",
    "    helper_dict['counts'].append(counts[i]['count(DISTINCT cr)'])\n",
    "    \n",
    "counts_df = pd.DataFrame(helper_dict)\n",
    "counts_df"
   ]
  },
  {
   "cell_type": "markdown",
   "metadata": {},
   "source": [
    "## Plotting the values"
   ]
  },
  {
   "cell_type": "code",
   "execution_count": 45,
   "metadata": {},
   "outputs": [
    {
     "data": {
      "text/plain": [
       "<AxesSubplot:xlabel='item'>"
      ]
     },
     "execution_count": 45,
     "metadata": {},
     "output_type": "execute_result"
    },
    {
     "data": {
      "image/png": "[encoded data removed]",
      "text/plain": [
       "<Figure size 432x288 with 1 Axes>"
      ]
     },
     "metadata": {
      "needs_background": "light"
     },
     "output_type": "display_data"
    }
   ],
   "source": [
    "counts_df.plot(x='item', y='counts', kind='bar')"
   ]
  },
  {
   "cell_type": "markdown",
   "metadata": {},
   "source": [
    "## Getting Other MetaData"
   ]
  },
  {
   "cell_type": "code",
   "execution_count": 14,
   "metadata": {},
   "outputs": [],
   "source": [
    "data = graph.run('''MATCH (k:KEYWORD {keyword: \"earth science\"})\\\n",
    "MATCH (k)<-[:hasKeyword]-(a1:ANNOTATION)-[:Body]->(dc:dataCat)\\\n",
    "MATCH (dc)<-[:Target]-(a2:ANNOTATION)-[:Target]->(cr:codeRepo)\\\n",
    "RETURN distinct properties(dc), properties(cr)''').data()"
   ]
  },
  {
   "cell_type": "code",
   "execution_count": 15,
   "metadata": {},
   "outputs": [
    {
     "data": {
      "text/plain": [
       "dict_keys(['properties(dc)', 'properties(cr)'])"
      ]
     },
     "execution_count": 15,
     "metadata": {},
     "output_type": "execute_result"
    }
   ],
   "source": [
    "dict1 = data[0]\n",
    "dict1.keys()"
   ]
  },
  {
   "cell_type": "code",
   "execution_count": 16,
   "metadata": {},
   "outputs": [
    {
     "data": {
      "text/plain": [
       "'r3d100010356'"
      ]
     },
     "execution_count": 16,
     "metadata": {},
     "output_type": "execute_result"
    }
   ],
   "source": [
    "dict1['properties(dc)']['id']"
   ]
  },
  {
   "cell_type": "code",
   "execution_count": 17,
   "metadata": {},
   "outputs": [
    {
     "data": {
      "text/plain": [
       "'{\"id\": 37471462, \"repo\": \"ramadda\", \"owner\": \"donmurray\", \"name\": \"donmurray/ramadda\", \"url\": \"https://github.com/donmurray/ramadda\", \"created\": \"2015-06-15 (14:49:29.000000)\", \"description\": null, \"topics\": [], \"readme\": {\"readme\": {\"readme\": true, \"badges\": 0, \"headings\": 0, \"char\": 3369}, \"license\": \"Other\"}, \"commits\": {\"totalCommits\": 5604, \"range\": [\"2015-06-09 (01:08:44.000000)\", \"2015-06-13 (12:33:09.000000)\"], \"authors\": [null]}, \"languages\": {\"Java\": 10267669, \"JavaScript\": 1088747, \"HTML\": 958926, \"CSS\": 384048, \"Tcl\": 156286, \"Shell\": 30045, \"Batchfile\": 653, \"Python\": 210}, \"stars\": 0, \"forks\": 0, \"fork\": false, \"issues\": 0, \"branches\": 1, \"watchers\": 0, \"checkdate\": \"2020-11-08 (23:59:26.409711)\"}'"
      ]
     },
     "execution_count": 17,
     "metadata": {},
     "output_type": "execute_result"
    }
   ],
   "source": [
    "dict1['properties(cr)']['meta']"
   ]
  },
  {
   "cell_type": "code",
   "execution_count": 18,
   "metadata": {},
   "outputs": [
    {
     "data": {
      "text/plain": [
       "338"
      ]
     },
     "execution_count": 18,
     "metadata": {},
     "output_type": "execute_result"
    }
   ],
   "source": [
    "len(data)"
   ]
  },
  {
   "cell_type": "code",
   "execution_count": 19,
   "metadata": {},
   "outputs": [],
   "source": [
    "test_string = dict1['properties(cr)']['meta'] # this is a string, from here, using find and REGEX, get commits "
   ]
  },
  {
   "cell_type": "code",
   "execution_count": 20,
   "metadata": {},
   "outputs": [
    {
     "data": {
      "text/plain": [
       "'{\"id\": 37471462, \"repo\": \"ramadda\", \"owner\": \"donmurray\", \"name\": \"donmurray/ramadda\", \"url\": \"https://github.com/donmurray/ramadda\", \"created\": \"2015-06-15 (14:49:29.000000)\", \"description\": null, \"topics\": [], \"readme\": {\"readme\": {\"readme\": true, \"badges\": 0, \"headings\": 0, \"char\": 3369}, \"license\": \"Other\"}, \"commits\": {\"totalCommits\": 5604, \"range\": [\"2015-06-09 (01:08:44.000000)\", \"2015-06-13 (12:33:09.000000)\"], \"authors\": [null]}, \"languages\": {\"Java\": 10267669, \"JavaScript\": 1088747, \"HTML\": 958926, \"CSS\": 384048, \"Tcl\": 156286, \"Shell\": 30045, \"Batchfile\": 653, \"Python\": 210}, \"stars\": 0, \"forks\": 0, \"fork\": false, \"issues\": 0, \"branches\": 1, \"watchers\": 0, \"checkdate\": \"2020-11-08 (23:59:26.409711)\"}'"
      ]
     },
     "execution_count": 20,
     "metadata": {},
     "output_type": "execute_result"
    }
   ],
   "source": [
    "test_string"
   ]
  },
  {
   "cell_type": "code",
   "execution_count": 21,
   "metadata": {},
   "outputs": [
    {
     "data": {
      "text/plain": [
       "0"
      ]
     },
     "execution_count": 21,
     "metadata": {},
     "output_type": "execute_result"
    }
   ],
   "source": [
    "res = json.loads(test_string) \n",
    "res['forks']"
   ]
  },
  {
   "cell_type": "code",
   "execution_count": 22,
   "metadata": {},
   "outputs": [
    {
     "data": {
      "text/plain": [
       "37471462"
      ]
     },
     "execution_count": 22,
     "metadata": {},
     "output_type": "execute_result"
    }
   ],
   "source": [
    "res['id']"
   ]
  },
  {
   "cell_type": "markdown",
   "metadata": {},
   "source": [
    "## Getting CodeRepos and Forks"
   ]
  },
  {
   "cell_type": "code",
   "execution_count": 23,
   "metadata": {},
   "outputs": [],
   "source": [
    "helper_dict2={'dacat': [],\n",
    "              'meta':[],\n",
    "              'cr_item': [],\n",
    "              'forks':[]}\n",
    "\n",
    "for i in range (0, len(data)-1):\n",
    "    helper_dict2['dacat'].append(data[i]['properties(dc)']['id'])\n",
    "    try:\n",
    "        helper_dict2['meta'].append(data[i]['properties(cr)']['meta'])\n",
    "        json_data = json.loads(data[i]['properties(cr)']['meta'])\n",
    "        helper_data = json_data['id']\n",
    "        extra_element = json_data['forks']\n",
    "        helper_dict2['cr_item'].append(helper_data)\n",
    "        helper_dict2['forks'].append(extra_element)\n",
    "        \n",
    "    except KeyError:\n",
    "        helper_dict2['meta'].append(\"None2\")\n",
    "        helper_dict2['cr_item'].append(\"Missing\")\n",
    "        helper_dict2['forks'].append(\"Missing\")\n",
    "        \n",
    "\n",
    "#helper_dict2"
   ]
  },
  {
   "cell_type": "code",
   "execution_count": 24,
   "metadata": {},
   "outputs": [
    {
     "data": {
      "text/html": [
       "<div>\n",
       "<style scoped>\n",
       "    .dataframe tbody tr th:only-of-type {\n",
       "        vertical-align: middle;\n",
       "    }\n",
       "\n",
       "    .dataframe tbody tr th {\n",
       "        vertical-align: top;\n",
       "    }\n",
       "\n",
       "    .dataframe thead th {\n",
       "        text-align: right;\n",
       "    }\n",
       "</style>\n",
       "<table border=\"1\" class=\"dataframe\">\n",
       "  <thead>\n",
       "    <tr style=\"text-align: right;\">\n",
       "      <th></th>\n",
       "      <th>dacat</th>\n",
       "      <th>meta</th>\n",
       "      <th>cr_item</th>\n",
       "      <th>forks</th>\n",
       "    </tr>\n",
       "  </thead>\n",
       "  <tbody>\n",
       "    <tr>\n",
       "      <th>0</th>\n",
       "      <td>r3d100010356</td>\n",
       "      <td>{\"id\": 37471462, \"repo\": \"ramadda\", \"owner\": \"...</td>\n",
       "      <td>37471462</td>\n",
       "      <td>0</td>\n",
       "    </tr>\n",
       "    <tr>\n",
       "      <th>1</th>\n",
       "      <td>r3d100010356</td>\n",
       "      <td>{\"id\": 44131591, \"repo\": \"TextTeaserOnline\", \"...</td>\n",
       "      <td>44131591</td>\n",
       "      <td>0</td>\n",
       "    </tr>\n",
       "    <tr>\n",
       "      <th>2</th>\n",
       "      <td>r3d100010356</td>\n",
       "      <td>{\"id\": 185451037, \"repo\": \"IDV-dev-old\", \"owne...</td>\n",
       "      <td>185451037</td>\n",
       "      <td>0</td>\n",
       "    </tr>\n",
       "    <tr>\n",
       "      <th>3</th>\n",
       "      <td>r3d100010356</td>\n",
       "      <td>{\"id\": 9786227, \"repo\": \"DELETE_ME.ramadda\", \"...</td>\n",
       "      <td>9786227</td>\n",
       "      <td>0</td>\n",
       "    </tr>\n",
       "    <tr>\n",
       "      <th>4</th>\n",
       "      <td>r3d100010356</td>\n",
       "      <td>{\"id\": 38782871, \"repo\": \"scraper\", \"owner\": \"...</td>\n",
       "      <td>38782871</td>\n",
       "      <td>1</td>\n",
       "    </tr>\n",
       "    <tr>\n",
       "      <th>...</th>\n",
       "      <td>...</td>\n",
       "      <td>...</td>\n",
       "      <td>...</td>\n",
       "      <td>...</td>\n",
       "    </tr>\n",
       "    <tr>\n",
       "      <th>331</th>\n",
       "      <td>r3d100011758</td>\n",
       "      <td>{\"id\": 105052913, \"repo\": \"nasa_data_visualiza...</td>\n",
       "      <td>105052913</td>\n",
       "      <td>1</td>\n",
       "    </tr>\n",
       "    <tr>\n",
       "      <th>332</th>\n",
       "      <td>r3d100011758</td>\n",
       "      <td>{\"id\": 212045308, \"repo\": \"dengue-hotspot-pred...</td>\n",
       "      <td>212045308</td>\n",
       "      <td>1</td>\n",
       "    </tr>\n",
       "    <tr>\n",
       "      <th>333</th>\n",
       "      <td>r3d100011758</td>\n",
       "      <td>{\"id\": 73648855, \"repo\": \"meteorite-map\", \"own...</td>\n",
       "      <td>73648855</td>\n",
       "      <td>0</td>\n",
       "    </tr>\n",
       "    <tr>\n",
       "      <th>334</th>\n",
       "      <td>r3d100011758</td>\n",
       "      <td>{\"id\": 188626320, \"repo\": \"data-prov\", \"owner\"...</td>\n",
       "      <td>188626320</td>\n",
       "      <td>0</td>\n",
       "    </tr>\n",
       "    <tr>\n",
       "      <th>335</th>\n",
       "      <td>r3d100011758</td>\n",
       "      <td>{\"id\": 207593397, \"repo\": \"CIM440\", \"owner\": \"...</td>\n",
       "      <td>207593397</td>\n",
       "      <td>0</td>\n",
       "    </tr>\n",
       "  </tbody>\n",
       "</table>\n",
       "<p>328 rows × 4 columns</p>\n",
       "</div>"
      ],
      "text/plain": [
       "            dacat                                               meta  \\\n",
       "0    r3d100010356  {\"id\": 37471462, \"repo\": \"ramadda\", \"owner\": \"...   \n",
       "1    r3d100010356  {\"id\": 44131591, \"repo\": \"TextTeaserOnline\", \"...   \n",
       "2    r3d100010356  {\"id\": 185451037, \"repo\": \"IDV-dev-old\", \"owne...   \n",
       "3    r3d100010356  {\"id\": 9786227, \"repo\": \"DELETE_ME.ramadda\", \"...   \n",
       "4    r3d100010356  {\"id\": 38782871, \"repo\": \"scraper\", \"owner\": \"...   \n",
       "..            ...                                                ...   \n",
       "331  r3d100011758  {\"id\": 105052913, \"repo\": \"nasa_data_visualiza...   \n",
       "332  r3d100011758  {\"id\": 212045308, \"repo\": \"dengue-hotspot-pred...   \n",
       "333  r3d100011758  {\"id\": 73648855, \"repo\": \"meteorite-map\", \"own...   \n",
       "334  r3d100011758  {\"id\": 188626320, \"repo\": \"data-prov\", \"owner\"...   \n",
       "335  r3d100011758  {\"id\": 207593397, \"repo\": \"CIM440\", \"owner\": \"...   \n",
       "\n",
       "       cr_item forks  \n",
       "0     37471462     0  \n",
       "1     44131591     0  \n",
       "2    185451037     0  \n",
       "3      9786227     0  \n",
       "4     38782871     1  \n",
       "..         ...   ...  \n",
       "331  105052913     1  \n",
       "332  212045308     1  \n",
       "333   73648855     0  \n",
       "334  188626320     0  \n",
       "335  207593397     0  \n",
       "\n",
       "[328 rows x 4 columns]"
      ]
     },
     "execution_count": 24,
     "metadata": {},
     "output_type": "execute_result"
    }
   ],
   "source": [
    "forks_df = pd.DataFrame(helper_dict2)\n",
    "forks_df = forks_df[forks_df['meta'] != \"None2\"]\n",
    "forks_df"
   ]
  },
  {
   "cell_type": "code",
   "execution_count": 25,
   "metadata": {},
   "outputs": [
    {
     "data": {
      "text/plain": [
       "(328, 3)"
      ]
     },
     "execution_count": 25,
     "metadata": {},
     "output_type": "execute_result"
    }
   ],
   "source": [
    "forks_df=forks_df.drop_duplicates()\n",
    "forks_df=forks_df[['dacat', 'cr_item', 'forks']].reset_index(drop=True)\n",
    "forks_df.shape"
   ]
  },
  {
   "cell_type": "code",
   "execution_count": 26,
   "metadata": {},
   "outputs": [
    {
     "data": {
      "text/html": [
       "<div>\n",
       "<style scoped>\n",
       "    .dataframe tbody tr th:only-of-type {\n",
       "        vertical-align: middle;\n",
       "    }\n",
       "\n",
       "    .dataframe tbody tr th {\n",
       "        vertical-align: top;\n",
       "    }\n",
       "\n",
       "    .dataframe thead th {\n",
       "        text-align: right;\n",
       "    }\n",
       "</style>\n",
       "<table border=\"1\" class=\"dataframe\">\n",
       "  <thead>\n",
       "    <tr style=\"text-align: right;\">\n",
       "      <th></th>\n",
       "      <th>dacat</th>\n",
       "      <th>cr_item</th>\n",
       "      <th>forks</th>\n",
       "    </tr>\n",
       "  </thead>\n",
       "  <tbody>\n",
       "    <tr>\n",
       "      <th>count</th>\n",
       "      <td>328</td>\n",
       "      <td>328</td>\n",
       "      <td>328</td>\n",
       "    </tr>\n",
       "    <tr>\n",
       "      <th>unique</th>\n",
       "      <td>13</td>\n",
       "      <td>319</td>\n",
       "      <td>32</td>\n",
       "    </tr>\n",
       "    <tr>\n",
       "      <th>top</th>\n",
       "      <td>r3d100010134</td>\n",
       "      <td>229084981</td>\n",
       "      <td>0</td>\n",
       "    </tr>\n",
       "    <tr>\n",
       "      <th>freq</th>\n",
       "      <td>93</td>\n",
       "      <td>3</td>\n",
       "      <td>184</td>\n",
       "    </tr>\n",
       "  </tbody>\n",
       "</table>\n",
       "</div>"
      ],
      "text/plain": [
       "               dacat    cr_item  forks\n",
       "count            328        328    328\n",
       "unique            13        319     32\n",
       "top     r3d100010134  229084981      0\n",
       "freq              93          3    184"
      ]
     },
     "execution_count": 26,
     "metadata": {},
     "output_type": "execute_result"
    }
   ],
   "source": [
    "forks_df.describe()"
   ]
  },
  {
   "cell_type": "markdown",
   "metadata": {},
   "source": [
    "### For Repos that have more than 5 forks"
   ]
  },
  {
   "cell_type": "markdown",
   "metadata": {},
   "source": [
    "Add interactive element to manipulate number of forks"
   ]
  },
  {
   "cell_type": "code",
   "execution_count": 27,
   "metadata": {},
   "outputs": [],
   "source": [
    "forks_5_plot = forks_df[forks_df['forks']>=10]"
   ]
  },
  {
   "cell_type": "code",
   "execution_count": 28,
   "metadata": {},
   "outputs": [
    {
     "data": {
      "image/png": "[encoded data removed]",
      "text/plain": [
       "<Figure size 432x288 with 1 Axes>"
      ]
     },
     "metadata": {
      "needs_background": "light"
     },
     "output_type": "display_data"
    }
   ],
   "source": [
    "forks_plot = forks_5_plot.plot(x='cr_item', y='forks', kind='bar')"
   ]
  },
  {
   "cell_type": "markdown",
   "metadata": {},
   "source": [
    "## Extraodinary Repo with a lot of Forks"
   ]
  },
  {
   "cell_type": "code",
   "execution_count": 29,
   "metadata": {},
   "outputs": [
    {
     "data": {
      "text/html": [
       "<div>\n",
       "<style scoped>\n",
       "    .dataframe tbody tr th:only-of-type {\n",
       "        vertical-align: middle;\n",
       "    }\n",
       "\n",
       "    .dataframe tbody tr th {\n",
       "        vertical-align: top;\n",
       "    }\n",
       "\n",
       "    .dataframe thead th {\n",
       "        text-align: right;\n",
       "    }\n",
       "</style>\n",
       "<table border=\"1\" class=\"dataframe\">\n",
       "  <thead>\n",
       "    <tr style=\"text-align: right;\">\n",
       "      <th></th>\n",
       "      <th>dacat</th>\n",
       "      <th>cr_item</th>\n",
       "      <th>forks</th>\n",
       "    </tr>\n",
       "  </thead>\n",
       "  <tbody>\n",
       "    <tr>\n",
       "      <th>298</th>\n",
       "      <td>r3d100011758</td>\n",
       "      <td>12745174</td>\n",
       "      <td>417</td>\n",
       "    </tr>\n",
       "  </tbody>\n",
       "</table>\n",
       "</div>"
      ],
      "text/plain": [
       "            dacat   cr_item forks\n",
       "298  r3d100011758  12745174   417"
      ]
     },
     "execution_count": 29,
     "metadata": {},
     "output_type": "execute_result"
    }
   ],
   "source": [
    "forks_df[forks_df['forks']>300]"
   ]
  },
  {
   "cell_type": "markdown",
   "metadata": {},
   "source": [
    "## Data Catalog it belongs to"
   ]
  },
  {
   "cell_type": "code",
   "execution_count": 30,
   "metadata": {},
   "outputs": [
    {
     "data": {
      "text/html": [
       "<div>\n",
       "<style scoped>\n",
       "    .dataframe tbody tr th:only-of-type {\n",
       "        vertical-align: middle;\n",
       "    }\n",
       "\n",
       "    .dataframe tbody tr th {\n",
       "        vertical-align: top;\n",
       "    }\n",
       "\n",
       "    .dataframe thead th {\n",
       "        text-align: right;\n",
       "    }\n",
       "</style>\n",
       "<table border=\"1\" class=\"dataframe\">\n",
       "  <thead>\n",
       "    <tr style=\"text-align: right;\">\n",
       "      <th></th>\n",
       "      <th>dacat</th>\n",
       "      <th>cr_item</th>\n",
       "      <th>forks</th>\n",
       "    </tr>\n",
       "  </thead>\n",
       "  <tbody>\n",
       "    <tr>\n",
       "      <th>298</th>\n",
       "      <td>r3d100011758</td>\n",
       "      <td>12745174</td>\n",
       "      <td>417</td>\n",
       "    </tr>\n",
       "    <tr>\n",
       "      <th>307</th>\n",
       "      <td>r3d100011758</td>\n",
       "      <td>33125718</td>\n",
       "      <td>142</td>\n",
       "    </tr>\n",
       "    <tr>\n",
       "      <th>320</th>\n",
       "      <td>r3d100011758</td>\n",
       "      <td>90807748</td>\n",
       "      <td>79</td>\n",
       "    </tr>\n",
       "  </tbody>\n",
       "</table>\n",
       "</div>"
      ],
      "text/plain": [
       "            dacat   cr_item forks\n",
       "298  r3d100011758  12745174   417\n",
       "307  r3d100011758  33125718   142\n",
       "320  r3d100011758  90807748    79"
      ]
     },
     "execution_count": 30,
     "metadata": {},
     "output_type": "execute_result"
    }
   ],
   "source": [
    "forks_df[(forks_df['dacat']=='r3d100011758') & (forks_df['forks']>50)]"
   ]
  },
  {
   "cell_type": "markdown",
   "metadata": {},
   "source": [
    "## Getting CodeRepos and GitCommits"
   ]
  },
  {
   "cell_type": "code",
   "execution_count": 31,
   "metadata": {},
   "outputs": [],
   "source": [
    "# Convert previous logic into a good documented function."
   ]
  },
  {
   "cell_type": "code",
   "execution_count": 32,
   "metadata": {},
   "outputs": [],
   "source": [
    "data[1]['properties(cr)']['meta']\n",
    "example = json.loads(data[1]['properties(cr)']['meta'])\n"
   ]
  },
  {
   "cell_type": "code",
   "execution_count": 33,
   "metadata": {},
   "outputs": [
    {
     "data": {
      "text/plain": [
       "6"
      ]
     },
     "execution_count": 33,
     "metadata": {},
     "output_type": "execute_result"
    }
   ],
   "source": [
    "example['commits']['totalCommits']"
   ]
  },
  {
   "cell_type": "code",
   "execution_count": 34,
   "metadata": {},
   "outputs": [],
   "source": [
    "helper_dict3={'dacat': [],\n",
    "              'meta':[],\n",
    "              'cr_item': [],\n",
    "              'commits':[]}\n",
    "\n",
    "\n",
    "for i in range (0, len(data)-1):\n",
    "    helper_dict3['dacat'].append(data[i]['properties(dc)']['id'])\n",
    "    try:\n",
    "        helper_dict3['meta'].append(data[i]['properties(cr)']['meta'])\n",
    "        json_data = json.loads(data[i]['properties(cr)']['meta'])\n",
    "        helper_data = json_data['id']\n",
    "        extra_element = json_data['commits']['totalCommits']\n",
    "        helper_dict3['cr_item'].append(helper_data)\n",
    "        helper_dict3['commits'].append(extra_element)\n",
    "        \n",
    "    except KeyError:\n",
    "        helper_dict3['meta'].append(\"None2\")\n",
    "        helper_dict3['cr_item'].append(\"Missing\")\n",
    "        helper_dict3['commits'].append(\"Missing\")"
   ]
  },
  {
   "cell_type": "code",
   "execution_count": 35,
   "metadata": {},
   "outputs": [
    {
     "data": {
      "text/html": [
       "<div>\n",
       "<style scoped>\n",
       "    .dataframe tbody tr th:only-of-type {\n",
       "        vertical-align: middle;\n",
       "    }\n",
       "\n",
       "    .dataframe tbody tr th {\n",
       "        vertical-align: top;\n",
       "    }\n",
       "\n",
       "    .dataframe thead th {\n",
       "        text-align: right;\n",
       "    }\n",
       "</style>\n",
       "<table border=\"1\" class=\"dataframe\">\n",
       "  <thead>\n",
       "    <tr style=\"text-align: right;\">\n",
       "      <th></th>\n",
       "      <th>dacat</th>\n",
       "      <th>cr_item</th>\n",
       "      <th>commits</th>\n",
       "    </tr>\n",
       "  </thead>\n",
       "  <tbody>\n",
       "    <tr>\n",
       "      <th>0</th>\n",
       "      <td>r3d100010356</td>\n",
       "      <td>37471462</td>\n",
       "      <td>5604</td>\n",
       "    </tr>\n",
       "    <tr>\n",
       "      <th>1</th>\n",
       "      <td>r3d100010356</td>\n",
       "      <td>44131591</td>\n",
       "      <td>6</td>\n",
       "    </tr>\n",
       "    <tr>\n",
       "      <th>2</th>\n",
       "      <td>r3d100010356</td>\n",
       "      <td>185451037</td>\n",
       "      <td>9265</td>\n",
       "    </tr>\n",
       "    <tr>\n",
       "      <th>3</th>\n",
       "      <td>r3d100010356</td>\n",
       "      <td>9786227</td>\n",
       "      <td>2526</td>\n",
       "    </tr>\n",
       "    <tr>\n",
       "      <th>4</th>\n",
       "      <td>r3d100010356</td>\n",
       "      <td>38782871</td>\n",
       "      <td>23</td>\n",
       "    </tr>\n",
       "    <tr>\n",
       "      <th>5</th>\n",
       "      <td>r3d100010356</td>\n",
       "      <td>15574023</td>\n",
       "      <td>3506</td>\n",
       "    </tr>\n",
       "    <tr>\n",
       "      <th>6</th>\n",
       "      <td>r3d100010356</td>\n",
       "      <td>39629064</td>\n",
       "      <td>3637</td>\n",
       "    </tr>\n",
       "    <tr>\n",
       "      <th>7</th>\n",
       "      <td>r3d100010867</td>\n",
       "      <td>165827878</td>\n",
       "      <td>843</td>\n",
       "    </tr>\n",
       "    <tr>\n",
       "      <th>8</th>\n",
       "      <td>r3d100010867</td>\n",
       "      <td>118793166</td>\n",
       "      <td>48</td>\n",
       "    </tr>\n",
       "    <tr>\n",
       "      <th>9</th>\n",
       "      <td>r3d100010867</td>\n",
       "      <td>51334355</td>\n",
       "      <td>333</td>\n",
       "    </tr>\n",
       "  </tbody>\n",
       "</table>\n",
       "</div>"
      ],
      "text/plain": [
       "          dacat    cr_item commits\n",
       "0  r3d100010356   37471462    5604\n",
       "1  r3d100010356   44131591       6\n",
       "2  r3d100010356  185451037    9265\n",
       "3  r3d100010356    9786227    2526\n",
       "4  r3d100010356   38782871      23\n",
       "5  r3d100010356   15574023    3506\n",
       "6  r3d100010356   39629064    3637\n",
       "7  r3d100010867  165827878     843\n",
       "8  r3d100010867  118793166      48\n",
       "9  r3d100010867   51334355     333"
      ]
     },
     "execution_count": 35,
     "metadata": {},
     "output_type": "execute_result"
    }
   ],
   "source": [
    "commits_df = pd.DataFrame(helper_dict3)\n",
    "commits_df = commits_df[commits_df['commits'] != \"Missing\"]\n",
    "commits_df = commits_df.drop_duplicates().reset_index(drop=True)\n",
    "commits_df = commits_df[['dacat', 'cr_item', 'commits']]\n",
    "commits_df.head(10)"
   ]
  },
  {
   "cell_type": "code",
   "execution_count": 36,
   "metadata": {},
   "outputs": [
    {
     "data": {
      "text/plain": [
       "(328, 3)"
      ]
     },
     "execution_count": 36,
     "metadata": {},
     "output_type": "execute_result"
    }
   ],
   "source": [
    "commits_df.shape"
   ]
  },
  {
   "cell_type": "code",
   "execution_count": 37,
   "metadata": {},
   "outputs": [
    {
     "data": {
      "text/html": [
       "<div>\n",
       "<style scoped>\n",
       "    .dataframe tbody tr th:only-of-type {\n",
       "        vertical-align: middle;\n",
       "    }\n",
       "\n",
       "    .dataframe tbody tr th {\n",
       "        vertical-align: top;\n",
       "    }\n",
       "\n",
       "    .dataframe thead th {\n",
       "        text-align: right;\n",
       "    }\n",
       "</style>\n",
       "<table border=\"1\" class=\"dataframe\">\n",
       "  <thead>\n",
       "    <tr style=\"text-align: right;\">\n",
       "      <th></th>\n",
       "      <th>dacat</th>\n",
       "      <th>cr_item</th>\n",
       "      <th>commits</th>\n",
       "    </tr>\n",
       "  </thead>\n",
       "  <tbody>\n",
       "    <tr>\n",
       "      <th>count</th>\n",
       "      <td>328</td>\n",
       "      <td>328</td>\n",
       "      <td>328</td>\n",
       "    </tr>\n",
       "    <tr>\n",
       "      <th>unique</th>\n",
       "      <td>13</td>\n",
       "      <td>319</td>\n",
       "      <td>181</td>\n",
       "    </tr>\n",
       "    <tr>\n",
       "      <th>top</th>\n",
       "      <td>r3d100010134</td>\n",
       "      <td>229084981</td>\n",
       "      <td>4</td>\n",
       "    </tr>\n",
       "    <tr>\n",
       "      <th>freq</th>\n",
       "      <td>93</td>\n",
       "      <td>3</td>\n",
       "      <td>14</td>\n",
       "    </tr>\n",
       "  </tbody>\n",
       "</table>\n",
       "</div>"
      ],
      "text/plain": [
       "               dacat    cr_item  commits\n",
       "count            328        328      328\n",
       "unique            13        319      181\n",
       "top     r3d100010134  229084981        4\n",
       "freq              93          3       14"
      ]
     },
     "execution_count": 37,
     "metadata": {},
     "output_type": "execute_result"
    }
   ],
   "source": [
    "commits_df.describe(include='all')"
   ]
  },
  {
   "cell_type": "code",
   "execution_count": 38,
   "metadata": {},
   "outputs": [],
   "source": [
    "commits_900_plot = commits_df[commits_df['commits']>=900]"
   ]
  },
  {
   "cell_type": "code",
   "execution_count": 39,
   "metadata": {},
   "outputs": [
    {
     "data": {
      "image/png": "[encoded data removed]",
      "text/plain": [
       "<Figure size 432x288 with 1 Axes>"
      ]
     },
     "metadata": {
      "needs_background": "light"
     },
     "output_type": "display_data"
    }
   ],
   "source": [
    "commits_plot = commits_900_plot.plot(x='dacat', y='commits', kind='bar')"
   ]
  },
  {
   "cell_type": "markdown",
   "metadata": {},
   "source": [
    "## Getting CodeRepos and Contributors"
   ]
  },
  {
   "cell_type": "code",
   "execution_count": 40,
   "metadata": {},
   "outputs": [],
   "source": [
    "helper_dict4={'dacat': [],\n",
    "              'meta':[],\n",
    "              'cr_item': [],\n",
    "              'contributors':[]}\n",
    "\n",
    "\n",
    "for i in range (0, len(data)-1):\n",
    "    helper_dict4['dacat'].append(data[i]['properties(dc)']['id'])\n",
    "    try:\n",
    "        helper_dict4['meta'].append(data[i]['properties(cr)']['meta'])\n",
    "        json_data = json.loads(data[i]['properties(cr)']['meta'])\n",
    "        helper_data = json_data['id']\n",
    "        extra_element = json_data['commits']['authors']\n",
    "        helper_dict4['cr_item'].append(helper_data)\n",
    "        helper_dict4['contributors'].append(len(extra_element))\n",
    "        \n",
    "    except KeyError:\n",
    "        helper_dict4['meta'].append(\"None2\")\n",
    "        helper_dict4['cr_item'].append(\"Missing\")\n",
    "        helper_dict4['contributors'].append(\"Missing\")"
   ]
  },
  {
   "cell_type": "code",
   "execution_count": 41,
   "metadata": {},
   "outputs": [
    {
     "data": {
      "text/html": [
       "<div>\n",
       "<style scoped>\n",
       "    .dataframe tbody tr th:only-of-type {\n",
       "        vertical-align: middle;\n",
       "    }\n",
       "\n",
       "    .dataframe tbody tr th {\n",
       "        vertical-align: top;\n",
       "    }\n",
       "\n",
       "    .dataframe thead th {\n",
       "        text-align: right;\n",
       "    }\n",
       "</style>\n",
       "<table border=\"1\" class=\"dataframe\">\n",
       "  <thead>\n",
       "    <tr style=\"text-align: right;\">\n",
       "      <th></th>\n",
       "      <th>dacat</th>\n",
       "      <th>cr_item</th>\n",
       "      <th>contributors</th>\n",
       "    </tr>\n",
       "  </thead>\n",
       "  <tbody>\n",
       "    <tr>\n",
       "      <th>0</th>\n",
       "      <td>r3d100010356</td>\n",
       "      <td>37471462</td>\n",
       "      <td>1</td>\n",
       "    </tr>\n",
       "    <tr>\n",
       "      <th>1</th>\n",
       "      <td>r3d100010356</td>\n",
       "      <td>44131591</td>\n",
       "      <td>1</td>\n",
       "    </tr>\n",
       "    <tr>\n",
       "      <th>2</th>\n",
       "      <td>r3d100010356</td>\n",
       "      <td>185451037</td>\n",
       "      <td>15</td>\n",
       "    </tr>\n",
       "    <tr>\n",
       "      <th>3</th>\n",
       "      <td>r3d100010356</td>\n",
       "      <td>9786227</td>\n",
       "      <td>2</td>\n",
       "    </tr>\n",
       "    <tr>\n",
       "      <th>4</th>\n",
       "      <td>r3d100010356</td>\n",
       "      <td>38782871</td>\n",
       "      <td>2</td>\n",
       "    </tr>\n",
       "    <tr>\n",
       "      <th>5</th>\n",
       "      <td>r3d100010356</td>\n",
       "      <td>15574023</td>\n",
       "      <td>1</td>\n",
       "    </tr>\n",
       "    <tr>\n",
       "      <th>6</th>\n",
       "      <td>r3d100010356</td>\n",
       "      <td>39629064</td>\n",
       "      <td>4</td>\n",
       "    </tr>\n",
       "    <tr>\n",
       "      <th>7</th>\n",
       "      <td>r3d100010867</td>\n",
       "      <td>165827878</td>\n",
       "      <td>5</td>\n",
       "    </tr>\n",
       "    <tr>\n",
       "      <th>8</th>\n",
       "      <td>r3d100010867</td>\n",
       "      <td>118793166</td>\n",
       "      <td>5</td>\n",
       "    </tr>\n",
       "    <tr>\n",
       "      <th>9</th>\n",
       "      <td>r3d100010867</td>\n",
       "      <td>51334355</td>\n",
       "      <td>5</td>\n",
       "    </tr>\n",
       "  </tbody>\n",
       "</table>\n",
       "</div>"
      ],
      "text/plain": [
       "          dacat    cr_item contributors\n",
       "0  r3d100010356   37471462            1\n",
       "1  r3d100010356   44131591            1\n",
       "2  r3d100010356  185451037           15\n",
       "3  r3d100010356    9786227            2\n",
       "4  r3d100010356   38782871            2\n",
       "5  r3d100010356   15574023            1\n",
       "6  r3d100010356   39629064            4\n",
       "7  r3d100010867  165827878            5\n",
       "8  r3d100010867  118793166            5\n",
       "9  r3d100010867   51334355            5"
      ]
     },
     "execution_count": 41,
     "metadata": {},
     "output_type": "execute_result"
    }
   ],
   "source": [
    "contributors_df = pd.DataFrame(helper_dict4)\n",
    "contributors_df = contributors_df[contributors_df['contributors'] != \"Missing\"]\n",
    "contributors_df = contributors_df.drop_duplicates().reset_index(drop=True)\n",
    "contributors_df = contributors_df[['dacat', 'cr_item', 'contributors']]\n",
    "contributors_df.head(10)"
   ]
  },
  {
   "cell_type": "code",
   "execution_count": 42,
   "metadata": {},
   "outputs": [
    {
     "data": {
      "text/html": [
       "<div>\n",
       "<style scoped>\n",
       "    .dataframe tbody tr th:only-of-type {\n",
       "        vertical-align: middle;\n",
       "    }\n",
       "\n",
       "    .dataframe tbody tr th {\n",
       "        vertical-align: top;\n",
       "    }\n",
       "\n",
       "    .dataframe thead th {\n",
       "        text-align: right;\n",
       "    }\n",
       "</style>\n",
       "<table border=\"1\" class=\"dataframe\">\n",
       "  <thead>\n",
       "    <tr style=\"text-align: right;\">\n",
       "      <th></th>\n",
       "      <th>dacat</th>\n",
       "      <th>cr_item</th>\n",
       "      <th>contributors</th>\n",
       "    </tr>\n",
       "  </thead>\n",
       "  <tbody>\n",
       "    <tr>\n",
       "      <th>count</th>\n",
       "      <td>328</td>\n",
       "      <td>328</td>\n",
       "      <td>328</td>\n",
       "    </tr>\n",
       "    <tr>\n",
       "      <th>unique</th>\n",
       "      <td>13</td>\n",
       "      <td>319</td>\n",
       "      <td>27</td>\n",
       "    </tr>\n",
       "    <tr>\n",
       "      <th>top</th>\n",
       "      <td>r3d100010134</td>\n",
       "      <td>229084981</td>\n",
       "      <td>1</td>\n",
       "    </tr>\n",
       "    <tr>\n",
       "      <th>freq</th>\n",
       "      <td>93</td>\n",
       "      <td>3</td>\n",
       "      <td>144</td>\n",
       "    </tr>\n",
       "  </tbody>\n",
       "</table>\n",
       "</div>"
      ],
      "text/plain": [
       "               dacat    cr_item  contributors\n",
       "count            328        328           328\n",
       "unique            13        319            27\n",
       "top     r3d100010134  229084981             1\n",
       "freq              93          3           144"
      ]
     },
     "execution_count": 42,
     "metadata": {},
     "output_type": "execute_result"
    }
   ],
   "source": [
    "contributors_df.describe()"
   ]
  },
  {
   "cell_type": "code",
   "execution_count": 43,
   "metadata": {},
   "outputs": [],
   "source": [
    "contributors_10_plot = contributors_df[contributors_df['contributors']>=10]"
   ]
  },
  {
   "cell_type": "code",
   "execution_count": 44,
   "metadata": {},
   "outputs": [
    {
     "data": {
      "image/png": "[encoded data removed]",
      "text/plain": [
       "<Figure size 432x288 with 1 Axes>"
      ]
     },
     "metadata": {
      "needs_background": "light"
     },
     "output_type": "display_data"
    }
   ],
   "source": [
    "contributors_over_10_plot = contributors_10_plot.plot(x='dacat', y='contributors', kind='bar')"
   ]
  }
 ],
 "metadata": {
  "kernelspec": {
   "display_name": "Python 3",
   "language": "python",
   "name": "python3"
  },
  "language_info": {
   "codemirror_mode": {
    "name": "ipython",
    "version": 3
   },
   "file_extension": ".py",
   "mimetype": "text/x-python",
   "name": "python",
   "nbconvert_exporter": "python",
   "pygments_lexer": "ipython3",
   "version": "3.7.4"
  }
 },
 "nbformat": 4,
 "nbformat_minor": 2
}
