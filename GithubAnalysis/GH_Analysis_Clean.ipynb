{
 "cells": [
  {
   "cell_type": "code",
   "execution_count": 1,
   "metadata": {},
   "outputs": [],
   "source": [
    "import pandas as pd\n",
    "import numpy as np\n",
    "import json\n",
    "\n",
    "# Load py2neo\n",
    "import py2neo\n",
    "from py2neo import Graph\n",
    "from py2neo.matching import *\n",
    "\n",
    "# Interactive Plotting Libraries\n",
    "import ipywidgets as widgets\n",
    "from ipywidgets import interact, interact_manual\n",
    "import plotly.graph_objects as go\n",
    "\n",
    "# Plotting Widgets\n",
    "import cufflinks as cf\n",
    "\n",
    "# Self created functions\n",
    "import config as cfg\n",
    "import utils"
   ]
  },
  {
   "cell_type": "markdown",
   "metadata": {},
   "source": [
    "# Throughput Github Analysis\n",
    "\n",
    "This is a research project led by PhD Simon Goring.\n",
    "\n",
    "Different research questions are tried to be answer such as: \n",
    "\n",
    "- How do individuals and organizations use GitHub (or other public code repositories) to reference, analyze or reuse data from Data Catalogs?\n",
    "\n",
    "- Are there clear patterns of use across public repositories?\n",
    "\n",
    "- Do patterns of use differ by data/disciplinary domain, or do properties of the data resource (presence of an API, online documentation, size of user community) affect patterns of use? \n",
    "\n",
    "- Does the data reuse observed here expand our understanding of current modes of data reuse, e.g. those outlined in https://datascience.codata.org/articles/10.5334/dsj-2017-008/ ?\n",
    "\n",
    "- What are the characteristics and shape of the Earth Science research object network?\n",
    "- What are major nodes of connectivity?\n",
    "- What poorly connected islands exist? \n",
    "- What is the nature of data reuse in this network?\n",
    "- What downstream/second order grant products can be identified from this network?"
   ]
  },
  {
   "cell_type": "markdown",
   "metadata": {},
   "source": [
    "## Current Approach\n",
    "\n",
    "Categorizing a subset of scraped repos, with pre-defined types, which may be updated iteratively as categorization progresses (education, analysis, archiving, informational).\n",
    "\n",
    "\n",
    "Using ML techniques, we might be able to classify repos according to type automatically; and could consider classifying according to repository quality/completeness. Repository quality or completeness would be defined by:\n",
    "\n",
    "- presence/absence/length of readme\n",
    "- number of commits\n",
    "- number of contributors\n",
    "\n",
    "By using neo4j, we can construct and analyze the network graph in order to get:\n",
    "- Centrality and level of connection\n",
    "- Identification of small networks/islands within the network\n",
    "- What databases are highly connected and which are not?\n",
    "- Use database properties (has API, online search portal, has R/Python package, has user forum . . .)"
   ]
  },
  {
   "cell_type": "markdown",
   "metadata": {},
   "source": [
    "## Objective of the Notebook"
   ]
  },
  {
   "cell_type": "markdown",
   "metadata": {},
   "source": [
    "This Notebook is going to be used to created an initial EDA using Neo4j to create a Recommendation System with Graph Databases."
   ]
  },
  {
   "cell_type": "markdown",
   "metadata": {},
   "source": [
    "Connect to Neo4j's graph.\n",
    "\n",
    "User credentials can be input in the `config.py` script, imported as `cfg`. \n",
    "\n",
    "A `config_sample.py` script has been included. Add your credentials and rename the file to be `config.py` in your system."
   ]
  },
  {
   "cell_type": "code",
   "execution_count": 2,
   "metadata": {},
   "outputs": [],
   "source": [
    "# Connect to Graph\n",
    "graph = Graph(\"bolt://localhost:7687\", auth=(cfg.neo4j['auth']), bolt=True, password=cfg.neo4j['password'])"
   ]
  },
  {
   "cell_type": "code",
   "execution_count": 3,
   "metadata": {},
   "outputs": [
    {
     "data": {
      "text/plain": [
       "Graph('bolt://neo4j@localhost:7687', name='neo4j')"
      ]
     },
     "execution_count": 3,
     "metadata": {},
     "output_type": "execute_result"
    }
   ],
   "source": [
    "graph"
   ]
  },
  {
   "cell_type": "markdown",
   "metadata": {},
   "source": [
    "### Counting observations"
   ]
  },
  {
   "cell_type": "code",
   "execution_count": 4,
   "metadata": {},
   "outputs": [
    {
     "data": {
      "text/html": [
       "<div>\n",
       "<style scoped>\n",
       "    .dataframe tbody tr th:only-of-type {\n",
       "        vertical-align: middle;\n",
       "    }\n",
       "\n",
       "    .dataframe tbody tr th {\n",
       "        vertical-align: top;\n",
       "    }\n",
       "\n",
       "    .dataframe thead th {\n",
       "        text-align: right;\n",
       "    }\n",
       "</style>\n",
       "<table border=\"1\" class=\"dataframe\">\n",
       "  <thead>\n",
       "    <tr style=\"text-align: right;\">\n",
       "      <th></th>\n",
       "      <th>COUNT(DISTINCT ocr)</th>\n",
       "    </tr>\n",
       "  </thead>\n",
       "  <tbody>\n",
       "    <tr>\n",
       "      <th>0</th>\n",
       "      <td>73563</td>\n",
       "    </tr>\n",
       "  </tbody>\n",
       "</table>\n",
       "</div>"
      ],
      "text/plain": [
       "   COUNT(DISTINCT ocr)\n",
       "0                73563"
      ]
     },
     "execution_count": 4,
     "metadata": {},
     "output_type": "execute_result"
    }
   ],
   "source": [
    "graph.run('MATCH (crt:TYPE {type:\"schema:CodeRepository\"})\\\n",
    "           MATCH (crt)<-[:isType]-(ocr:OBJECT) \\\n",
    "           RETURN COUNT(DISTINCT ocr)').to_data_frame()"
   ]
  },
  {
   "cell_type": "markdown",
   "metadata": {},
   "source": [
    "# EDA for Github Analysis\n",
    "\n",
    "Creating right graphs for GA project.\n",
    "\n",
    "We will analyze and graph the following:\n",
    "- Distribution of references to DBs <- ??"
   ]
  },
  {
   "cell_type": "markdown",
   "metadata": {},
   "source": [
    "- Note 'Earth Science' databases within graph / Note particular 'Subjects' within graph.\n",
    "    - X = DBs; y = # of referenced repos <- ??\n",
    "    - Linked repos (x) by commits (y)"
   ]
  },
  {
   "cell_type": "markdown",
   "metadata": {},
   "source": [
    "- Note 'ES' and 'Subjects' commits \n",
    "    - Linked repos (x) by # of contributors (y)\n",
    "    - Linked repos (x) by # of forks (y)"
   ]
  },
  {
   "cell_type": "markdown",
   "metadata": {},
   "source": [
    "## Getting DataCatalogs and CodeRepos"
   ]
  },
  {
   "cell_type": "markdown",
   "metadata": {},
   "source": [
    "![](img/01_graph.png)"
   ]
  },
  {
   "cell_type": "markdown",
   "metadata": {},
   "source": [
    "## Getting MetaData"
   ]
  },
  {
   "cell_type": "code",
   "execution_count": 5,
   "metadata": {},
   "outputs": [],
   "source": [
    "data = graph.run('''MATCH (k:KEYWORD {keyword: \"earth science\"})\\\n",
    "MATCH (k)<-[:hasKeyword]-(a1:ANNOTATION)-[:Body]->(dc:dataCat)\\\n",
    "MATCH (dc)<-[:Target]-(a2:ANNOTATION)-[:Target]->(cr:codeRepo)\\\n",
    "RETURN distinct properties(dc), properties(cr)''').data()"
   ]
  },
  {
   "cell_type": "markdown",
   "metadata": {},
   "source": [
    "## Metadata to DF"
   ]
  },
  {
   "cell_type": "code",
   "execution_count": 6,
   "metadata": {},
   "outputs": [],
   "source": [
    "meta_df = utils.get_metadata_1(data = data)"
   ]
  },
  {
   "cell_type": "code",
   "execution_count": 7,
   "metadata": {},
   "outputs": [
    {
     "data": {
      "text/html": [
       "<div>\n",
       "<style scoped>\n",
       "    .dataframe tbody tr th:only-of-type {\n",
       "        vertical-align: middle;\n",
       "    }\n",
       "\n",
       "    .dataframe tbody tr th {\n",
       "        vertical-align: top;\n",
       "    }\n",
       "\n",
       "    .dataframe thead th {\n",
       "        text-align: right;\n",
       "    }\n",
       "</style>\n",
       "<table border=\"1\" class=\"dataframe\">\n",
       "  <thead>\n",
       "    <tr style=\"text-align: right;\">\n",
       "      <th></th>\n",
       "      <th>dacat</th>\n",
       "      <th>dacat_name</th>\n",
       "      <th>cr_item</th>\n",
       "      <th>cr_name</th>\n",
       "      <th>forks</th>\n",
       "      <th>commits</th>\n",
       "      <th>contributors</th>\n",
       "    </tr>\n",
       "  </thead>\n",
       "  <tbody>\n",
       "    <tr>\n",
       "      <th>0</th>\n",
       "      <td>r3d100010356dc</td>\n",
       "      <td>Unidata's RAMADDA</td>\n",
       "      <td>37471462cr</td>\n",
       "      <td>donmurray/ramadda</td>\n",
       "      <td>0</td>\n",
       "      <td>5604</td>\n",
       "      <td>1</td>\n",
       "    </tr>\n",
       "    <tr>\n",
       "      <th>1</th>\n",
       "      <td>r3d100010356dc</td>\n",
       "      <td>Unidata's RAMADDA</td>\n",
       "      <td>44131591cr</td>\n",
       "      <td>CINERGI/TextTeaserOnline</td>\n",
       "      <td>0</td>\n",
       "      <td>6</td>\n",
       "      <td>1</td>\n",
       "    </tr>\n",
       "    <tr>\n",
       "      <th>2</th>\n",
       "      <td>r3d100010356dc</td>\n",
       "      <td>Unidata's RAMADDA</td>\n",
       "      <td>185451037cr</td>\n",
       "      <td>suvarchal/IDV-dev-old</td>\n",
       "      <td>0</td>\n",
       "      <td>9265</td>\n",
       "      <td>15</td>\n",
       "    </tr>\n",
       "    <tr>\n",
       "      <th>3</th>\n",
       "      <td>r3d100010356dc</td>\n",
       "      <td>Unidata's RAMADDA</td>\n",
       "      <td>9786227cr</td>\n",
       "      <td>aodn-archive/DELETE_ME.ramadda</td>\n",
       "      <td>0</td>\n",
       "      <td>2526</td>\n",
       "      <td>2</td>\n",
       "    </tr>\n",
       "    <tr>\n",
       "      <th>4</th>\n",
       "      <td>r3d100010356dc</td>\n",
       "      <td>Unidata's RAMADDA</td>\n",
       "      <td>38782871cr</td>\n",
       "      <td>CINERGI/scraper</td>\n",
       "      <td>1</td>\n",
       "      <td>23</td>\n",
       "      <td>2</td>\n",
       "    </tr>\n",
       "    <tr>\n",
       "      <th>...</th>\n",
       "      <td>...</td>\n",
       "      <td>...</td>\n",
       "      <td>...</td>\n",
       "      <td>...</td>\n",
       "      <td>...</td>\n",
       "      <td>...</td>\n",
       "      <td>...</td>\n",
       "    </tr>\n",
       "    <tr>\n",
       "      <th>331</th>\n",
       "      <td>r3d100011758dc</td>\n",
       "      <td>Nasa's Data Portal</td>\n",
       "      <td>105052913cr</td>\n",
       "      <td>PaulMFleming/nasa_data_visualization</td>\n",
       "      <td>1</td>\n",
       "      <td>47</td>\n",
       "      <td>1</td>\n",
       "    </tr>\n",
       "    <tr>\n",
       "      <th>332</th>\n",
       "      <td>r3d100011758dc</td>\n",
       "      <td>Nasa's Data Portal</td>\n",
       "      <td>212045308cr</td>\n",
       "      <td>Team-Hawking/dengue-hotspot-predictor</td>\n",
       "      <td>1</td>\n",
       "      <td>54</td>\n",
       "      <td>3</td>\n",
       "    </tr>\n",
       "    <tr>\n",
       "      <th>333</th>\n",
       "      <td>r3d100011758dc</td>\n",
       "      <td>Nasa's Data Portal</td>\n",
       "      <td>73648855cr</td>\n",
       "      <td>dillonchanis/meteorite-map</td>\n",
       "      <td>0</td>\n",
       "      <td>10</td>\n",
       "      <td>1</td>\n",
       "    </tr>\n",
       "    <tr>\n",
       "      <th>334</th>\n",
       "      <td>r3d100011758dc</td>\n",
       "      <td>Nasa's Data Portal</td>\n",
       "      <td>188626320cr</td>\n",
       "      <td>lanemk/data-prov</td>\n",
       "      <td>0</td>\n",
       "      <td>33</td>\n",
       "      <td>1</td>\n",
       "    </tr>\n",
       "    <tr>\n",
       "      <th>335</th>\n",
       "      <td>r3d100011758dc</td>\n",
       "      <td>Nasa's Data Portal</td>\n",
       "      <td>207593397cr</td>\n",
       "      <td>nsampedro/CIM440</td>\n",
       "      <td>0</td>\n",
       "      <td>45</td>\n",
       "      <td>1</td>\n",
       "    </tr>\n",
       "  </tbody>\n",
       "</table>\n",
       "<p>328 rows × 7 columns</p>\n",
       "</div>"
      ],
      "text/plain": [
       "              dacat          dacat_name      cr_item  \\\n",
       "0    r3d100010356dc   Unidata's RAMADDA   37471462cr   \n",
       "1    r3d100010356dc   Unidata's RAMADDA   44131591cr   \n",
       "2    r3d100010356dc   Unidata's RAMADDA  185451037cr   \n",
       "3    r3d100010356dc   Unidata's RAMADDA    9786227cr   \n",
       "4    r3d100010356dc   Unidata's RAMADDA   38782871cr   \n",
       "..              ...                 ...          ...   \n",
       "331  r3d100011758dc  Nasa's Data Portal  105052913cr   \n",
       "332  r3d100011758dc  Nasa's Data Portal  212045308cr   \n",
       "333  r3d100011758dc  Nasa's Data Portal   73648855cr   \n",
       "334  r3d100011758dc  Nasa's Data Portal  188626320cr   \n",
       "335  r3d100011758dc  Nasa's Data Portal  207593397cr   \n",
       "\n",
       "                                   cr_name  forks  commits  contributors  \n",
       "0                        donmurray/ramadda      0     5604             1  \n",
       "1                 CINERGI/TextTeaserOnline      0        6             1  \n",
       "2                    suvarchal/IDV-dev-old      0     9265            15  \n",
       "3           aodn-archive/DELETE_ME.ramadda      0     2526             2  \n",
       "4                          CINERGI/scraper      1       23             2  \n",
       "..                                     ...    ...      ...           ...  \n",
       "331   PaulMFleming/nasa_data_visualization      1       47             1  \n",
       "332  Team-Hawking/dengue-hotspot-predictor      1       54             3  \n",
       "333             dillonchanis/meteorite-map      0       10             1  \n",
       "334                       lanemk/data-prov      0       33             1  \n",
       "335                       nsampedro/CIM440      0       45             1  \n",
       "\n",
       "[328 rows x 7 columns]"
      ]
     },
     "execution_count": 7,
     "metadata": {},
     "output_type": "execute_result"
    }
   ],
   "source": [
    "meta_df"
   ]
  },
  {
   "cell_type": "code",
   "execution_count": 8,
   "metadata": {},
   "outputs": [
    {
     "data": {
      "text/html": [
       "<div>\n",
       "<style scoped>\n",
       "    .dataframe tbody tr th:only-of-type {\n",
       "        vertical-align: middle;\n",
       "    }\n",
       "\n",
       "    .dataframe tbody tr th {\n",
       "        vertical-align: top;\n",
       "    }\n",
       "\n",
       "    .dataframe thead th {\n",
       "        text-align: right;\n",
       "    }\n",
       "</style>\n",
       "<table border=\"1\" class=\"dataframe\">\n",
       "  <thead>\n",
       "    <tr style=\"text-align: right;\">\n",
       "      <th></th>\n",
       "      <th>dacat</th>\n",
       "      <th>dacat_name</th>\n",
       "      <th>cr_item</th>\n",
       "      <th>cr_name</th>\n",
       "      <th>forks</th>\n",
       "      <th>commits</th>\n",
       "      <th>contributors</th>\n",
       "    </tr>\n",
       "  </thead>\n",
       "  <tbody>\n",
       "    <tr>\n",
       "      <th>count</th>\n",
       "      <td>328</td>\n",
       "      <td>328</td>\n",
       "      <td>328</td>\n",
       "      <td>328</td>\n",
       "      <td>328.000000</td>\n",
       "      <td>328.000000</td>\n",
       "      <td>328.000000</td>\n",
       "    </tr>\n",
       "    <tr>\n",
       "      <th>unique</th>\n",
       "      <td>13</td>\n",
       "      <td>13</td>\n",
       "      <td>319</td>\n",
       "      <td>319</td>\n",
       "      <td>NaN</td>\n",
       "      <td>NaN</td>\n",
       "      <td>NaN</td>\n",
       "    </tr>\n",
       "    <tr>\n",
       "      <th>top</th>\n",
       "      <td>r3d100010134dc</td>\n",
       "      <td>PANGAEA</td>\n",
       "      <td>229084981cr</td>\n",
       "      <td>dataone-website-test/hugo-and-forestry</td>\n",
       "      <td>NaN</td>\n",
       "      <td>NaN</td>\n",
       "      <td>NaN</td>\n",
       "    </tr>\n",
       "    <tr>\n",
       "      <th>freq</th>\n",
       "      <td>93</td>\n",
       "      <td>93</td>\n",
       "      <td>3</td>\n",
       "      <td>3</td>\n",
       "      <td>NaN</td>\n",
       "      <td>NaN</td>\n",
       "      <td>NaN</td>\n",
       "    </tr>\n",
       "    <tr>\n",
       "      <th>mean</th>\n",
       "      <td>NaN</td>\n",
       "      <td>NaN</td>\n",
       "      <td>NaN</td>\n",
       "      <td>NaN</td>\n",
       "      <td>5.987805</td>\n",
       "      <td>1158.920732</td>\n",
       "      <td>5.463415</td>\n",
       "    </tr>\n",
       "    <tr>\n",
       "      <th>std</th>\n",
       "      <td>NaN</td>\n",
       "      <td>NaN</td>\n",
       "      <td>NaN</td>\n",
       "      <td>NaN</td>\n",
       "      <td>29.254757</td>\n",
       "      <td>4694.785140</td>\n",
       "      <td>28.739873</td>\n",
       "    </tr>\n",
       "    <tr>\n",
       "      <th>min</th>\n",
       "      <td>NaN</td>\n",
       "      <td>NaN</td>\n",
       "      <td>NaN</td>\n",
       "      <td>NaN</td>\n",
       "      <td>0.000000</td>\n",
       "      <td>1.000000</td>\n",
       "      <td>1.000000</td>\n",
       "    </tr>\n",
       "    <tr>\n",
       "      <th>25%</th>\n",
       "      <td>NaN</td>\n",
       "      <td>NaN</td>\n",
       "      <td>NaN</td>\n",
       "      <td>NaN</td>\n",
       "      <td>0.000000</td>\n",
       "      <td>12.000000</td>\n",
       "      <td>1.000000</td>\n",
       "    </tr>\n",
       "    <tr>\n",
       "      <th>50%</th>\n",
       "      <td>NaN</td>\n",
       "      <td>NaN</td>\n",
       "      <td>NaN</td>\n",
       "      <td>NaN</td>\n",
       "      <td>0.000000</td>\n",
       "      <td>54.000000</td>\n",
       "      <td>2.000000</td>\n",
       "    </tr>\n",
       "    <tr>\n",
       "      <th>75%</th>\n",
       "      <td>NaN</td>\n",
       "      <td>NaN</td>\n",
       "      <td>NaN</td>\n",
       "      <td>NaN</td>\n",
       "      <td>2.000000</td>\n",
       "      <td>251.500000</td>\n",
       "      <td>3.000000</td>\n",
       "    </tr>\n",
       "    <tr>\n",
       "      <th>max</th>\n",
       "      <td>NaN</td>\n",
       "      <td>NaN</td>\n",
       "      <td>NaN</td>\n",
       "      <td>NaN</td>\n",
       "      <td>417.000000</td>\n",
       "      <td>55881.000000</td>\n",
       "      <td>504.000000</td>\n",
       "    </tr>\n",
       "  </tbody>\n",
       "</table>\n",
       "</div>"
      ],
      "text/plain": [
       "                 dacat dacat_name      cr_item  \\\n",
       "count              328        328          328   \n",
       "unique              13         13          319   \n",
       "top     r3d100010134dc    PANGAEA  229084981cr   \n",
       "freq                93         93            3   \n",
       "mean               NaN        NaN          NaN   \n",
       "std                NaN        NaN          NaN   \n",
       "min                NaN        NaN          NaN   \n",
       "25%                NaN        NaN          NaN   \n",
       "50%                NaN        NaN          NaN   \n",
       "75%                NaN        NaN          NaN   \n",
       "max                NaN        NaN          NaN   \n",
       "\n",
       "                                       cr_name       forks       commits  \\\n",
       "count                                      328  328.000000    328.000000   \n",
       "unique                                     319         NaN           NaN   \n",
       "top     dataone-website-test/hugo-and-forestry         NaN           NaN   \n",
       "freq                                         3         NaN           NaN   \n",
       "mean                                       NaN    5.987805   1158.920732   \n",
       "std                                        NaN   29.254757   4694.785140   \n",
       "min                                        NaN    0.000000      1.000000   \n",
       "25%                                        NaN    0.000000     12.000000   \n",
       "50%                                        NaN    0.000000     54.000000   \n",
       "75%                                        NaN    2.000000    251.500000   \n",
       "max                                        NaN  417.000000  55881.000000   \n",
       "\n",
       "        contributors  \n",
       "count     328.000000  \n",
       "unique           NaN  \n",
       "top              NaN  \n",
       "freq             NaN  \n",
       "mean        5.463415  \n",
       "std        28.739873  \n",
       "min         1.000000  \n",
       "25%         1.000000  \n",
       "50%         2.000000  \n",
       "75%         3.000000  \n",
       "max       504.000000  "
      ]
     },
     "execution_count": 8,
     "metadata": {},
     "output_type": "execute_result"
    }
   ],
   "source": [
    "meta_df.describe(include = 'all')"
   ]
  },
  {
   "cell_type": "markdown",
   "metadata": {},
   "source": [
    "### Plotting by Data Catalog or Code Repo"
   ]
  },
  {
   "cell_type": "code",
   "execution_count": 9,
   "metadata": {},
   "outputs": [
    {
     "data": {
      "application/vnd.jupyter.widget-view+json": {
       "model_id": "ca4b4fdb641c4c259d4a795dd3cb02be",
       "version_major": 2,
       "version_minor": 0
      },
      "text/plain": [
       "interactive(children=(Dropdown(description='selection', options=('dacat', 'cr'), value='dacat'), Dropdown(desc…"
      ]
     },
     "metadata": {},
     "output_type": "display_data"
    }
   ],
   "source": [
    "@interact(x=(0,500))\n",
    "def show_dc_more_than(selection =['dacat','cr'], column=['forks', 'commits', 'contributors'], x = 1):\n",
    "    meta_df\n",
    "    if selection =='dacat':\n",
    "        df = meta_df[['dacat_name', 'cr_item', 'forks', 'commits', 'contributors']]\n",
    "        df = meta_df.groupby('dacat').agg({'dacat_name': 'max', 'cr_item' : 'count', 'forks' : 'sum', 'commits' : 'sum', 'contributors' : 'sum'}).reset_index()\n",
    "        \n",
    "    if selection =='cr':\n",
    "        df = meta_df.groupby('cr_item').agg({'cr_name': 'max', 'dacat_name': 'max',  'forks' : 'sum', 'commits' : 'sum', 'contributors' : 'sum'}).reset_index()\n",
    "        \n",
    "        \n",
    "    \n",
    "    return df.loc[df[column] > x]"
   ]
  },
  {
   "cell_type": "code",
   "execution_count": null,
   "metadata": {},
   "outputs": [],
   "source": []
  },
  {
   "cell_type": "code",
   "execution_count": 10,
   "metadata": {},
   "outputs": [
    {
     "data": {
      "application/vnd.jupyter.widget-view+json": {
       "model_id": "25464dde76d5491481eeae1f1987a61a",
       "version_major": 2,
       "version_minor": 0
      },
      "text/plain": [
       "interactive(children=(Dropdown(description='opt', options=('commits', 'forks', 'contributors'), value='commits…"
      ]
     },
     "metadata": {},
     "output_type": "display_data"
    }
   ],
   "source": [
    "dacat_list = meta_df['dacat_name'].unique().tolist()\n",
    "dacat_list.insert(0, 'All')\n",
    "\n",
    "@interact\n",
    "def histogram_plot(opt = ['commits', 'forks', 'contributors'],\n",
    "                  dacat = dacat_list):\n",
    "    if dacat == 'All':\n",
    "        df = meta_df\n",
    "    \n",
    "    else:\n",
    "        df = meta_df[meta_df['dacat_name'] == dacat]\n",
    "    \n",
    "    #df = meta_df\n",
    "    df = df[df[opt] >= 1]\n",
    "    \n",
    "    df[opt] = np.log(df[opt])\n",
    "    \n",
    "    title_str = 'Log(' + opt.capitalize() + ') - Repos with \"Earth Sciences\" as a Keyword' \n",
    "    trace = go.Histogram(x = df[opt], nbinsx=50)\n",
    "    \n",
    "    # layout\n",
    "    layout = go.Layout(\n",
    "                title = title_str, # Graph title\n",
    "                xaxis = dict(title = 'Log(' + opt.capitalize() + ') - Datacatalog: ' + dacat), # x-axis label\n",
    "                yaxis = dict(title = 'Count'), # y-axis label\n",
    "                hovermode ='closest' # handles multiple points landing on the same vertical\n",
    "    )\n",
    "\n",
    "    # fig\n",
    "    fig = go.Figure(trace, layout)\n",
    "    fig.update_traces(marker_line_width = 0.5, selector=dict(type='histogram'))\n",
    "    fig.show()"
   ]
  },
  {
   "cell_type": "markdown",
   "metadata": {},
   "source": [
    "# Analysis checking for Subject"
   ]
  },
  {
   "cell_type": "code",
   "execution_count": 11,
   "metadata": {},
   "outputs": [],
   "source": [
    "subject_data = graph.run('''MATCH (s:SUBJECT)\\\n",
    "WHERE s.id IN [313, 314, 315, 317]\\\n",
    "MATCH (s)<-[:hasSubject]-(a:ANNOTATION)-[]->(dc:dataCat)\\\n",
    "MATCH (dc)<-[:Target]-(:ANNOTATION)-[:Target]->(cr:codeRepo)\\\n",
    "RETURN distinct properties(dc), properties(cr), s.id''').data()"
   ]
  },
  {
   "cell_type": "code",
   "execution_count": 12,
   "metadata": {},
   "outputs": [],
   "source": [
    "subject_df = utils.create_df_subject(subject_data = subject_data)"
   ]
  },
  {
   "cell_type": "code",
   "execution_count": 13,
   "metadata": {},
   "outputs": [
    {
     "data": {
      "text/html": [
       "<div>\n",
       "<style scoped>\n",
       "    .dataframe tbody tr th:only-of-type {\n",
       "        vertical-align: middle;\n",
       "    }\n",
       "\n",
       "    .dataframe tbody tr th {\n",
       "        vertical-align: top;\n",
       "    }\n",
       "\n",
       "    .dataframe thead th {\n",
       "        text-align: right;\n",
       "    }\n",
       "</style>\n",
       "<table border=\"1\" class=\"dataframe\">\n",
       "  <thead>\n",
       "    <tr style=\"text-align: right;\">\n",
       "      <th></th>\n",
       "      <th>dacat</th>\n",
       "      <th>dacat_name</th>\n",
       "      <th>cr_item</th>\n",
       "      <th>cr_name</th>\n",
       "      <th>forks</th>\n",
       "      <th>commits</th>\n",
       "      <th>contributors</th>\n",
       "      <th>subject</th>\n",
       "      <th>subject_str</th>\n",
       "    </tr>\n",
       "  </thead>\n",
       "  <tbody>\n",
       "    <tr>\n",
       "      <th>count</th>\n",
       "      <td>7759</td>\n",
       "      <td>7759</td>\n",
       "      <td>7759</td>\n",
       "      <td>7759</td>\n",
       "      <td>7759.000000</td>\n",
       "      <td>7759.000000</td>\n",
       "      <td>7759.000000</td>\n",
       "      <td>7759</td>\n",
       "      <td>7759</td>\n",
       "    </tr>\n",
       "    <tr>\n",
       "      <th>unique</th>\n",
       "      <td>263</td>\n",
       "      <td>263</td>\n",
       "      <td>3238</td>\n",
       "      <td>3238</td>\n",
       "      <td>NaN</td>\n",
       "      <td>NaN</td>\n",
       "      <td>NaN</td>\n",
       "      <td>4</td>\n",
       "      <td>4</td>\n",
       "    </tr>\n",
       "    <tr>\n",
       "      <th>top</th>\n",
       "      <td>r3d100011989dc</td>\n",
       "      <td>USGS Earthquake Hazards Program</td>\n",
       "      <td>38782871cr</td>\n",
       "      <td>CINERGI/scraper</td>\n",
       "      <td>NaN</td>\n",
       "      <td>NaN</td>\n",
       "      <td>NaN</td>\n",
       "      <td>313</td>\n",
       "      <td>Atmospheric Science, Oceanography and Climate ...</td>\n",
       "    </tr>\n",
       "    <tr>\n",
       "      <th>freq</th>\n",
       "      <td>1047</td>\n",
       "      <td>1047</td>\n",
       "      <td>65</td>\n",
       "      <td>65</td>\n",
       "      <td>NaN</td>\n",
       "      <td>NaN</td>\n",
       "      <td>NaN</td>\n",
       "      <td>3259</td>\n",
       "      <td>3259</td>\n",
       "    </tr>\n",
       "    <tr>\n",
       "      <th>mean</th>\n",
       "      <td>NaN</td>\n",
       "      <td>NaN</td>\n",
       "      <td>NaN</td>\n",
       "      <td>NaN</td>\n",
       "      <td>9.431757</td>\n",
       "      <td>855.517206</td>\n",
       "      <td>12.167934</td>\n",
       "      <td>NaN</td>\n",
       "      <td>NaN</td>\n",
       "    </tr>\n",
       "    <tr>\n",
       "      <th>std</th>\n",
       "      <td>NaN</td>\n",
       "      <td>NaN</td>\n",
       "      <td>NaN</td>\n",
       "      <td>NaN</td>\n",
       "      <td>100.437306</td>\n",
       "      <td>8496.701811</td>\n",
       "      <td>122.566447</td>\n",
       "      <td>NaN</td>\n",
       "      <td>NaN</td>\n",
       "    </tr>\n",
       "    <tr>\n",
       "      <th>min</th>\n",
       "      <td>NaN</td>\n",
       "      <td>NaN</td>\n",
       "      <td>NaN</td>\n",
       "      <td>NaN</td>\n",
       "      <td>0.000000</td>\n",
       "      <td>1.000000</td>\n",
       "      <td>1.000000</td>\n",
       "      <td>NaN</td>\n",
       "      <td>NaN</td>\n",
       "    </tr>\n",
       "    <tr>\n",
       "      <th>25%</th>\n",
       "      <td>NaN</td>\n",
       "      <td>NaN</td>\n",
       "      <td>NaN</td>\n",
       "      <td>NaN</td>\n",
       "      <td>0.000000</td>\n",
       "      <td>8.000000</td>\n",
       "      <td>1.000000</td>\n",
       "      <td>NaN</td>\n",
       "      <td>NaN</td>\n",
       "    </tr>\n",
       "    <tr>\n",
       "      <th>50%</th>\n",
       "      <td>NaN</td>\n",
       "      <td>NaN</td>\n",
       "      <td>NaN</td>\n",
       "      <td>NaN</td>\n",
       "      <td>0.000000</td>\n",
       "      <td>35.000000</td>\n",
       "      <td>2.000000</td>\n",
       "      <td>NaN</td>\n",
       "      <td>NaN</td>\n",
       "    </tr>\n",
       "    <tr>\n",
       "      <th>75%</th>\n",
       "      <td>NaN</td>\n",
       "      <td>NaN</td>\n",
       "      <td>NaN</td>\n",
       "      <td>NaN</td>\n",
       "      <td>2.000000</td>\n",
       "      <td>165.000000</td>\n",
       "      <td>3.000000</td>\n",
       "      <td>NaN</td>\n",
       "      <td>NaN</td>\n",
       "    </tr>\n",
       "    <tr>\n",
       "      <th>max</th>\n",
       "      <td>NaN</td>\n",
       "      <td>NaN</td>\n",
       "      <td>NaN</td>\n",
       "      <td>NaN</td>\n",
       "      <td>4719.000000</td>\n",
       "      <td>390117.000000</td>\n",
       "      <td>4804.000000</td>\n",
       "      <td>NaN</td>\n",
       "      <td>NaN</td>\n",
       "    </tr>\n",
       "  </tbody>\n",
       "</table>\n",
       "</div>"
      ],
      "text/plain": [
       "                 dacat                       dacat_name     cr_item  \\\n",
       "count             7759                             7759        7759   \n",
       "unique             263                              263        3238   \n",
       "top     r3d100011989dc  USGS Earthquake Hazards Program  38782871cr   \n",
       "freq              1047                             1047          65   \n",
       "mean               NaN                              NaN         NaN   \n",
       "std                NaN                              NaN         NaN   \n",
       "min                NaN                              NaN         NaN   \n",
       "25%                NaN                              NaN         NaN   \n",
       "50%                NaN                              NaN         NaN   \n",
       "75%                NaN                              NaN         NaN   \n",
       "max                NaN                              NaN         NaN   \n",
       "\n",
       "                cr_name        forks        commits  contributors subject  \\\n",
       "count              7759  7759.000000    7759.000000   7759.000000    7759   \n",
       "unique             3238          NaN            NaN           NaN       4   \n",
       "top     CINERGI/scraper          NaN            NaN           NaN     313   \n",
       "freq                 65          NaN            NaN           NaN    3259   \n",
       "mean                NaN     9.431757     855.517206     12.167934     NaN   \n",
       "std                 NaN   100.437306    8496.701811    122.566447     NaN   \n",
       "min                 NaN     0.000000       1.000000      1.000000     NaN   \n",
       "25%                 NaN     0.000000       8.000000      1.000000     NaN   \n",
       "50%                 NaN     0.000000      35.000000      2.000000     NaN   \n",
       "75%                 NaN     2.000000     165.000000      3.000000     NaN   \n",
       "max                 NaN  4719.000000  390117.000000   4804.000000     NaN   \n",
       "\n",
       "                                              subject_str  \n",
       "count                                                7759  \n",
       "unique                                                  4  \n",
       "top     Atmospheric Science, Oceanography and Climate ...  \n",
       "freq                                                 3259  \n",
       "mean                                                  NaN  \n",
       "std                                                   NaN  \n",
       "min                                                   NaN  \n",
       "25%                                                   NaN  \n",
       "50%                                                   NaN  \n",
       "75%                                                   NaN  \n",
       "max                                                   NaN  "
      ]
     },
     "execution_count": 13,
     "metadata": {},
     "output_type": "execute_result"
    }
   ],
   "source": [
    "subject_df.describe(include='all')"
   ]
  },
  {
   "cell_type": "code",
   "execution_count": 14,
   "metadata": {},
   "outputs": [
    {
     "data": {
      "application/vnd.jupyter.widget-view+json": {
       "model_id": "c898dd7566e74292994af3c40b5c9e3c",
       "version_major": 2,
       "version_minor": 0
      },
      "text/plain": [
       "interactive(children=(Dropdown(description='subject', options=('Geophysics and Geodesy', 'Geology and Palaeont…"
      ]
     },
     "metadata": {},
     "output_type": "display_data"
    }
   ],
   "source": [
    "df_for_dacat = subject_df.groupby('dacat_name').count().reset_index()\n",
    "df_for_dacat = df_for_dacat[df_for_dacat['dacat'] > 100]\n",
    "\n",
    "dacat_list = df_for_dacat['dacat_name'].unique().tolist()\n",
    "dacat_list.insert(0, 'All')\n",
    "\n",
    "@interact\n",
    "def histogram_plot(subject = list(set(subject_df['subject_str'])),\n",
    "                   option = ['commits', 'forks', 'contributors'],\n",
    "                   dacat = dacat_list):\n",
    "    \n",
    "    if dacat == 'All':\n",
    "        df = subject_df\n",
    "    \n",
    "    else:\n",
    "        df = subject_df[subject_df['dacat_name'] == dacat]\n",
    "\n",
    "    \n",
    "    df = df[df['subject_str'] == subject]\n",
    "    \n",
    "    df = df[df[option] >= 1]\n",
    "    \n",
    "    df[option] = np.log(df[option])\n",
    "    \n",
    "    title_str = 'Log(' + option.capitalize() + ') - Repos with \" '+ subject + '\" as a Subject' \n",
    "    trace = go.Histogram(x = df[option], nbinsx=50)\n",
    "    \n",
    "    # layout\n",
    "    layout = go.Layout(\n",
    "                title = title_str, # Graph title\n",
    "                xaxis = dict(title = 'Log(' + option.capitalize() + ') - Datacatalog: ' + dacat), # x-axis label\n",
    "                yaxis = dict(title = 'Count'), # y-axis label\n",
    "                hovermode ='closest' # handles multiple points landing on the same vertical\n",
    "    )\n",
    "\n",
    "    # fig\n",
    "    fig = go.Figure(trace, layout)\n",
    "    fig.update_traces(marker_line_width = 0.5, selector=dict(type='histogram'))\n",
    "    fig.show()"
   ]
  },
  {
   "cell_type": "markdown",
   "metadata": {},
   "source": [
    "![img2](img/subject_graph.png)"
   ]
  },
  {
   "cell_type": "markdown",
   "metadata": {},
   "source": [
    "Green: Data Cat\n",
    "Navy blue: subject\n",
    "Pink: Code Repo\n",
    "Ligh Blue: Annotation"
   ]
  },
  {
   "cell_type": "markdown",
   "metadata": {},
   "source": [
    "## All Data Without Subjects"
   ]
  },
  {
   "cell_type": "code",
   "execution_count": 15,
   "metadata": {},
   "outputs": [],
   "source": [
    "all_data = graph.run('''MATCH ()<-[:hasSubject]-(a:ANNOTATION)-[]->(dc:dataCat)\\\n",
    "MATCH (dc)<-[:Target]-(:ANNOTATION)-[:Target]->(cr:codeRepo)\\\n",
    "RETURN distinct properties(dc), properties(cr)''').data()"
   ]
  },
  {
   "cell_type": "code",
   "execution_count": 16,
   "metadata": {},
   "outputs": [
    {
     "data": {
      "text/plain": [
       "57693"
      ]
     },
     "execution_count": 16,
     "metadata": {},
     "output_type": "execute_result"
    }
   ],
   "source": [
    "len(all_data)"
   ]
  },
  {
   "cell_type": "code",
   "execution_count": 17,
   "metadata": {},
   "outputs": [],
   "source": [
    "all_df = utils.create_all_df(all_data)"
   ]
  },
  {
   "cell_type": "code",
   "execution_count": 18,
   "metadata": {
    "scrolled": false
   },
   "outputs": [
    {
     "data": {
      "application/vnd.jupyter.widget-view+json": {
       "model_id": "3349fcaa00fc431cbb03bbd88ec690da",
       "version_major": 2,
       "version_minor": 0
      },
      "text/plain": [
       "interactive(children=(Dropdown(description='opt', options=('commits', 'forks', 'contributors'), value='commits…"
      ]
     },
     "metadata": {},
     "output_type": "display_data"
    }
   ],
   "source": [
    "df_for_dacat = all_df.groupby('dacat_name').count().reset_index()\n",
    "df_for_dacat = df_for_dacat[df_for_dacat['dacat'] > 10]\n",
    "\n",
    "dacat_list = df_for_dacat['dacat_name'].unique().tolist()\n",
    "dacat_list.insert(0, 'All')\n",
    "\n",
    "@interact\n",
    "def histogram_plot(opt = ['commits', 'forks', 'contributors'],\n",
    "                  dacat = dacat_list):\n",
    "    \n",
    "    if dacat == 'All':\n",
    "        df = all_df\n",
    "    \n",
    "    else:\n",
    "        df = all_df[all_df['dacat_name'] == dacat]\n",
    "    \n",
    "    df = df[df[opt] >= 1]\n",
    "    \n",
    "    df[opt] = np.log(df[opt])\n",
    "    \n",
    "    title_str = 'Log(' + opt.capitalize() + ') - All Repos within Throughput.'\n",
    "                 \n",
    "    trace = go.Histogram(x = df[opt], nbinsx=50)\n",
    "    \n",
    "    # layout\n",
    "    layout = go.Layout(\n",
    "                title = title_str, # Graph title\n",
    "                xaxis = dict(title = 'Log(' + opt.capitalize() + ') - Datacatalog: ' + dacat), # x-axis label\n",
    "                yaxis = dict(title = 'Count'), # y-axis label\n",
    "                hovermode ='closest' # handles multiple points landing on the same vertical\n",
    "    )\n",
    "\n",
    "    # fig\n",
    "    fig = go.Figure(trace, layout)\n",
    "    fig.update_traces(marker_line_width = 0.5, selector=dict(type='histogram'))\n",
    "    fig.show()"
   ]
  },
  {
   "cell_type": "code",
   "execution_count": null,
   "metadata": {},
   "outputs": [],
   "source": []
  },
  {
   "cell_type": "code",
   "execution_count": null,
   "metadata": {},
   "outputs": [],
   "source": []
  }
 ],
 "metadata": {
  "kernelspec": {
   "display_name": "Python 3",
   "language": "python",
   "name": "python3"
  },
  "language_info": {
   "codemirror_mode": {
    "name": "ipython",
    "version": 3
   },
   "file_extension": ".py",
   "mimetype": "text/x-python",
   "name": "python",
   "nbconvert_exporter": "python",
   "pygments_lexer": "ipython3",
   "version": "3.7.4"
  }
 },
 "nbformat": 4,
 "nbformat_minor": 2
}
